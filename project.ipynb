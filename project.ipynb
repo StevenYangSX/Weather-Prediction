{
 "cells": [
  {
   "cell_type": "code",
   "execution_count": 56,
   "metadata": {
    "collapsed": true
   },
   "outputs": [],
   "source": [
    "import numpy as np\n",
    "import pandas as pd\n",
    "import matplotlib.pyplot as plt\n",
    "import sys\n",
    "from sklearn.pipeline import make_pipeline\n",
    "from sklearn.preprocessing import MinMaxScaler\n",
    "from sklearn.decomposition import PCA\n",
    "from sklearn.cluster import KMeans\n",
    "from zipfile import ZipFile\n",
    "import os\n",
    "import glob\n",
    "from PIL import Image\n",
    "from sklearn.model_selection import train_test_split\n",
    "from sklearn.naive_bayes import GaussianNB\n",
    "from sklearn.metrics import accuracy_score\n",
    "from sklearn.neighbors import KNeighborsClassifier\n",
    "from sklearn.svm import SVC\n",
    "from sklearn.preprocessing import StandardScaler\n",
    "from sklearn.preprocessing import MinMaxScaler, StandardScaler\n",
    "from datetime import datetime\n",
    "from dateutil.parser import parse\n",
    "import pandas as pd\n",
    "from scipy import stats"
   ]
  },
  {
   "cell_type": "code",
   "execution_count": 57,
   "metadata": {
    "collapsed": false
   },
   "outputs": [],
   "source": [
    "#Read all the weather csv files and combine all data into a dataframe\n",
    "path = r'yvr-weather'                     # use your path\n",
    "all_files = glob.glob(os.path.join(path, \"*.csv\"))     # advisable to use os.path.join as this makes concatenation OS independent\n",
    "\n",
    "df_from_each_file = (pd.read_csv(f, header = 14) for f in all_files)\n",
    "data  = pd.concat(df_from_each_file, ignore_index=True)\n",
    "\n",
    "#regerence :https://stackoverflow.com/questions/20906474/import-multiple-csv-files-into-pandas-and-concatenate-into-one-dataframe"
   ]
  },
  {
   "cell_type": "code",
   "execution_count": 58,
   "metadata": {
    "collapsed": false
   },
   "outputs": [],
   "source": [
    "data.drop(['Data Quality', 'Temp Flag','Dew Point Temp Flag','Rel Hum Flag','Wind Dir Flag',\n",
    "           'Wind Spd Flag','Visibility Flag','Stn Press Flag','Hmdx Flag','Wind Chill','Wind Chill Flag'], axis=1, inplace=True)"
   ]
  },
  {
   "cell_type": "code",
   "execution_count": 59,
   "metadata": {
    "collapsed": false
   },
   "outputs": [],
   "source": [
    "data_useful = data"
   ]
  },
  {
   "cell_type": "code",
   "execution_count": 60,
   "metadata": {
    "collapsed": false
   },
   "outputs": [],
   "source": [
    "def im_to_data(im):\n",
    "    a = Image.open(im).convert('F')\n",
    "    #pix = np.array(a)\n",
    "    b = a.getdata()\n",
    "    #c = b.tolist()\n",
    "    #c= pix.reshape(-1)\n",
    "    #rawIm = raw.tolist()\n",
    "    #c.astype(float)\n",
    "    c = pd.Series(b)\n",
    "    return (c)"
   ]
  },
  {
   "cell_type": "code",
   "execution_count": 61,
   "metadata": {
    "collapsed": false
   },
   "outputs": [],
   "source": [
    "def get_im_name(im):\n",
    "    base=os.path.basename(im)\n",
    "    return (pd.Series(base))"
   ]
  },
  {
   "cell_type": "code",
   "execution_count": 62,
   "metadata": {
    "collapsed": false
   },
   "outputs": [],
   "source": [
    "def im_to_df(im):\n",
    "    df = pd.concat([im_to_data(im),get_im_name(im)], axis=1)\n",
    "    df.columns = ['Image_value','Image_name']\n",
    "    return df\n",
    "    "
   ]
  },
  {
   "cell_type": "code",
   "execution_count": 63,
   "metadata": {
    "collapsed": false
   },
   "outputs": [
    {
     "name": "stdout",
     "output_type": "stream",
     "text": [
      "Processing Images : 1 out of 1200 finished\n",
      "Processing Images : 2 out of 1200 finished\n",
      "Processing Images : 3 out of 1200 finished\n",
      "Processing Images : 4 out of 1200 finished\n",
      "Processing Images : 5 out of 1200 finished\n",
      "Processing Images : 6 out of 1200 finished\n",
      "Processing Images : 7 out of 1200 finished\n",
      "Processing Images : 8 out of 1200 finished\n",
      "Processing Images : 9 out of 1200 finished\n",
      "Processing Images : 10 out of 1200 finished\n",
      "Processing Images : 11 out of 1200 finished\n",
      "Processing Images : 12 out of 1200 finished\n",
      "Processing Images : 13 out of 1200 finished\n",
      "Processing Images : 14 out of 1200 finished\n",
      "Processing Images : 15 out of 1200 finished\n",
      "Processing Images : 16 out of 1200 finished\n",
      "Processing Images : 17 out of 1200 finished\n",
      "Processing Images : 18 out of 1200 finished\n",
      "Processing Images : 19 out of 1200 finished\n",
      "Processing Images : 20 out of 1200 finished\n",
      "Processing Images : 21 out of 1200 finished\n",
      "Processing Images : 22 out of 1200 finished\n",
      "Processing Images : 23 out of 1200 finished\n",
      "Processing Images : 24 out of 1200 finished\n",
      "Processing Images : 25 out of 1200 finished\n",
      "Processing Images : 26 out of 1200 finished\n",
      "Processing Images : 27 out of 1200 finished\n",
      "Processing Images : 28 out of 1200 finished\n",
      "Processing Images : 29 out of 1200 finished\n",
      "Processing Images : 30 out of 1200 finished\n",
      "Processing Images : 31 out of 1200 finished\n",
      "Processing Images : 32 out of 1200 finished\n",
      "Processing Images : 33 out of 1200 finished\n",
      "Processing Images : 34 out of 1200 finished\n",
      "Processing Images : 35 out of 1200 finished\n",
      "Processing Images : 36 out of 1200 finished\n",
      "Processing Images : 37 out of 1200 finished\n",
      "Processing Images : 38 out of 1200 finished\n",
      "Processing Images : 39 out of 1200 finished\n",
      "Processing Images : 40 out of 1200 finished\n",
      "Processing Images : 41 out of 1200 finished\n",
      "Processing Images : 42 out of 1200 finished\n",
      "Processing Images : 43 out of 1200 finished\n",
      "Processing Images : 44 out of 1200 finished\n",
      "Processing Images : 45 out of 1200 finished\n",
      "Processing Images : 46 out of 1200 finished\n",
      "Processing Images : 47 out of 1200 finished\n",
      "Processing Images : 48 out of 1200 finished\n",
      "Processing Images : 49 out of 1200 finished\n",
      "Processing Images : 50 out of 1200 finished\n",
      "Processing Images : 51 out of 1200 finished\n",
      "Processing Images : 52 out of 1200 finished\n",
      "Processing Images : 53 out of 1200 finished\n",
      "Processing Images : 54 out of 1200 finished\n",
      "Processing Images : 55 out of 1200 finished\n",
      "Processing Images : 56 out of 1200 finished\n",
      "Processing Images : 57 out of 1200 finished\n",
      "Processing Images : 58 out of 1200 finished\n",
      "Processing Images : 59 out of 1200 finished\n",
      "Processing Images : 60 out of 1200 finished\n",
      "Processing Images : 61 out of 1200 finished\n",
      "Processing Images : 62 out of 1200 finished\n",
      "Processing Images : 63 out of 1200 finished\n",
      "Processing Images : 64 out of 1200 finished\n",
      "Processing Images : 65 out of 1200 finished\n",
      "Processing Images : 66 out of 1200 finished\n",
      "Processing Images : 67 out of 1200 finished\n",
      "Processing Images : 68 out of 1200 finished\n",
      "Processing Images : 69 out of 1200 finished\n",
      "Processing Images : 70 out of 1200 finished\n",
      "Processing Images : 71 out of 1200 finished\n",
      "Processing Images : 72 out of 1200 finished\n",
      "Processing Images : 73 out of 1200 finished\n",
      "Processing Images : 74 out of 1200 finished\n",
      "Processing Images : 75 out of 1200 finished\n",
      "Processing Images : 76 out of 1200 finished\n",
      "Processing Images : 77 out of 1200 finished\n",
      "Processing Images : 78 out of 1200 finished\n",
      "Processing Images : 79 out of 1200 finished\n",
      "Processing Images : 80 out of 1200 finished\n",
      "Processing Images : 81 out of 1200 finished\n",
      "Processing Images : 82 out of 1200 finished\n",
      "Processing Images : 83 out of 1200 finished\n",
      "Processing Images : 84 out of 1200 finished\n",
      "Processing Images : 85 out of 1200 finished\n",
      "Processing Images : 86 out of 1200 finished\n",
      "Processing Images : 87 out of 1200 finished\n",
      "Processing Images : 88 out of 1200 finished\n",
      "Processing Images : 89 out of 1200 finished\n",
      "Processing Images : 90 out of 1200 finished\n",
      "Processing Images : 91 out of 1200 finished\n",
      "Processing Images : 92 out of 1200 finished\n",
      "Processing Images : 93 out of 1200 finished\n",
      "Processing Images : 94 out of 1200 finished\n",
      "Processing Images : 95 out of 1200 finished\n",
      "Processing Images : 96 out of 1200 finished\n",
      "Processing Images : 97 out of 1200 finished\n",
      "Processing Images : 98 out of 1200 finished\n",
      "Processing Images : 99 out of 1200 finished\n",
      "Processing Images : 100 out of 1200 finished\n",
      "Processing Images : 101 out of 1200 finished\n",
      "Processing Images : 102 out of 1200 finished\n",
      "Processing Images : 103 out of 1200 finished\n",
      "Processing Images : 104 out of 1200 finished\n",
      "Processing Images : 105 out of 1200 finished\n",
      "Processing Images : 106 out of 1200 finished\n",
      "Processing Images : 107 out of 1200 finished\n",
      "Processing Images : 108 out of 1200 finished\n",
      "Processing Images : 109 out of 1200 finished\n",
      "Processing Images : 110 out of 1200 finished\n",
      "Processing Images : 111 out of 1200 finished\n",
      "Processing Images : 112 out of 1200 finished\n",
      "Processing Images : 113 out of 1200 finished\n",
      "Processing Images : 114 out of 1200 finished\n",
      "Processing Images : 115 out of 1200 finished\n",
      "Processing Images : 116 out of 1200 finished\n",
      "Processing Images : 117 out of 1200 finished\n",
      "Processing Images : 118 out of 1200 finished\n",
      "Processing Images : 119 out of 1200 finished\n",
      "Processing Images : 120 out of 1200 finished\n",
      "Processing Images : 121 out of 1200 finished\n",
      "Processing Images : 122 out of 1200 finished\n",
      "Processing Images : 123 out of 1200 finished\n",
      "Processing Images : 124 out of 1200 finished\n",
      "Processing Images : 125 out of 1200 finished\n",
      "Processing Images : 126 out of 1200 finished\n",
      "Processing Images : 127 out of 1200 finished\n",
      "Processing Images : 128 out of 1200 finished\n",
      "Processing Images : 129 out of 1200 finished\n",
      "Processing Images : 130 out of 1200 finished\n",
      "Processing Images : 131 out of 1200 finished\n",
      "Processing Images : 132 out of 1200 finished\n",
      "Processing Images : 133 out of 1200 finished\n",
      "Processing Images : 134 out of 1200 finished\n",
      "Processing Images : 135 out of 1200 finished\n",
      "Processing Images : 136 out of 1200 finished\n",
      "Processing Images : 137 out of 1200 finished\n",
      "Processing Images : 138 out of 1200 finished\n",
      "Processing Images : 139 out of 1200 finished\n",
      "Processing Images : 140 out of 1200 finished\n",
      "Processing Images : 141 out of 1200 finished\n",
      "Processing Images : 142 out of 1200 finished\n",
      "Processing Images : 143 out of 1200 finished\n",
      "Processing Images : 144 out of 1200 finished\n",
      "Processing Images : 145 out of 1200 finished\n",
      "Processing Images : 146 out of 1200 finished\n",
      "Processing Images : 147 out of 1200 finished\n",
      "Processing Images : 148 out of 1200 finished\n",
      "Processing Images : 149 out of 1200 finished\n",
      "Processing Images : 150 out of 1200 finished\n",
      "Processing Images : 151 out of 1200 finished\n",
      "Processing Images : 152 out of 1200 finished\n",
      "Processing Images : 153 out of 1200 finished\n",
      "Processing Images : 154 out of 1200 finished\n",
      "Processing Images : 155 out of 1200 finished\n",
      "Processing Images : 156 out of 1200 finished\n",
      "Processing Images : 157 out of 1200 finished\n",
      "Processing Images : 158 out of 1200 finished\n",
      "Processing Images : 159 out of 1200 finished\n",
      "Processing Images : 160 out of 1200 finished\n",
      "Processing Images : 161 out of 1200 finished\n",
      "Processing Images : 162 out of 1200 finished\n",
      "Processing Images : 163 out of 1200 finished\n",
      "Processing Images : 164 out of 1200 finished\n",
      "Processing Images : 165 out of 1200 finished\n",
      "Processing Images : 166 out of 1200 finished\n",
      "Processing Images : 167 out of 1200 finished\n",
      "Processing Images : 168 out of 1200 finished\n",
      "Processing Images : 169 out of 1200 finished\n",
      "Processing Images : 170 out of 1200 finished\n",
      "Processing Images : 171 out of 1200 finished\n",
      "Processing Images : 172 out of 1200 finished\n",
      "Processing Images : 173 out of 1200 finished\n",
      "Processing Images : 174 out of 1200 finished\n",
      "Processing Images : 175 out of 1200 finished\n",
      "Processing Images : 176 out of 1200 finished\n",
      "Processing Images : 177 out of 1200 finished\n",
      "Processing Images : 178 out of 1200 finished\n",
      "Processing Images : 179 out of 1200 finished\n",
      "Processing Images : 180 out of 1200 finished\n",
      "Processing Images : 181 out of 1200 finished\n",
      "Processing Images : 182 out of 1200 finished\n",
      "Processing Images : 183 out of 1200 finished\n",
      "Processing Images : 184 out of 1200 finished\n",
      "Processing Images : 185 out of 1200 finished\n",
      "Processing Images : 186 out of 1200 finished\n",
      "Processing Images : 187 out of 1200 finished\n",
      "Processing Images : 188 out of 1200 finished\n",
      "Processing Images : 189 out of 1200 finished\n",
      "Processing Images : 190 out of 1200 finished\n",
      "Processing Images : 191 out of 1200 finished\n",
      "Processing Images : 192 out of 1200 finished\n",
      "Processing Images : 193 out of 1200 finished\n",
      "Processing Images : 194 out of 1200 finished\n",
      "Processing Images : 195 out of 1200 finished\n",
      "Processing Images : 196 out of 1200 finished\n",
      "Processing Images : 197 out of 1200 finished\n",
      "Processing Images : 198 out of 1200 finished\n",
      "Processing Images : 199 out of 1200 finished\n",
      "Processing Images : 200 out of 1200 finished\n",
      "Processing Images : 201 out of 1200 finished\n",
      "Processing Images : 202 out of 1200 finished\n",
      "Processing Images : 203 out of 1200 finished\n",
      "Processing Images : 204 out of 1200 finished\n",
      "Processing Images : 205 out of 1200 finished\n",
      "Processing Images : 206 out of 1200 finished\n",
      "Processing Images : 207 out of 1200 finished\n",
      "Processing Images : 208 out of 1200 finished\n",
      "Processing Images : 209 out of 1200 finished\n",
      "Processing Images : 210 out of 1200 finished\n",
      "Processing Images : 211 out of 1200 finished\n",
      "Processing Images : 212 out of 1200 finished\n",
      "Processing Images : 213 out of 1200 finished\n",
      "Processing Images : 214 out of 1200 finished\n",
      "Processing Images : 215 out of 1200 finished\n",
      "Processing Images : 216 out of 1200 finished\n",
      "Processing Images : 217 out of 1200 finished\n",
      "Processing Images : 218 out of 1200 finished\n",
      "Processing Images : 219 out of 1200 finished\n",
      "Processing Images : 220 out of 1200 finished\n",
      "Processing Images : 221 out of 1200 finished\n",
      "Processing Images : 222 out of 1200 finished\n",
      "Processing Images : 223 out of 1200 finished\n",
      "Processing Images : 224 out of 1200 finished\n",
      "Processing Images : 225 out of 1200 finished\n",
      "Processing Images : 226 out of 1200 finished\n",
      "Processing Images : 227 out of 1200 finished\n",
      "Processing Images : 228 out of 1200 finished\n",
      "Processing Images : 229 out of 1200 finished\n",
      "Processing Images : 230 out of 1200 finished\n",
      "Processing Images : 231 out of 1200 finished\n",
      "Processing Images : 232 out of 1200 finished\n",
      "Processing Images : 233 out of 1200 finished\n",
      "Processing Images : 234 out of 1200 finished\n",
      "Processing Images : 235 out of 1200 finished\n",
      "Processing Images : 236 out of 1200 finished\n",
      "Processing Images : 237 out of 1200 finished\n",
      "Processing Images : 238 out of 1200 finished\n",
      "Processing Images : 239 out of 1200 finished\n",
      "Processing Images : 240 out of 1200 finished\n",
      "Processing Images : 241 out of 1200 finished\n",
      "Processing Images : 242 out of 1200 finished\n",
      "Processing Images : 243 out of 1200 finished\n",
      "Processing Images : 244 out of 1200 finished\n",
      "Processing Images : 245 out of 1200 finished\n",
      "Processing Images : 246 out of 1200 finished\n",
      "Processing Images : 247 out of 1200 finished\n",
      "Processing Images : 248 out of 1200 finished\n",
      "Processing Images : 249 out of 1200 finished\n",
      "Processing Images : 250 out of 1200 finished\n",
      "Processing Images : 251 out of 1200 finished\n",
      "Processing Images : 252 out of 1200 finished\n",
      "Processing Images : 253 out of 1200 finished\n",
      "Processing Images : 254 out of 1200 finished\n",
      "Processing Images : 255 out of 1200 finished\n",
      "Processing Images : 256 out of 1200 finished\n",
      "Processing Images : 257 out of 1200 finished\n",
      "Processing Images : 258 out of 1200 finished\n",
      "Processing Images : 259 out of 1200 finished\n",
      "Processing Images : 260 out of 1200 finished\n",
      "Processing Images : 261 out of 1200 finished\n",
      "Processing Images : 262 out of 1200 finished\n",
      "Processing Images : 263 out of 1200 finished\n",
      "Processing Images : 264 out of 1200 finished\n",
      "Processing Images : 265 out of 1200 finished\n",
      "Processing Images : 266 out of 1200 finished\n",
      "Processing Images : 267 out of 1200 finished\n",
      "Processing Images : 268 out of 1200 finished\n",
      "Processing Images : 269 out of 1200 finished\n",
      "Processing Images : 270 out of 1200 finished\n",
      "Processing Images : 271 out of 1200 finished\n",
      "Processing Images : 272 out of 1200 finished\n",
      "Processing Images : 273 out of 1200 finished\n",
      "Processing Images : 274 out of 1200 finished\n",
      "Processing Images : 275 out of 1200 finished\n",
      "Processing Images : 276 out of 1200 finished\n",
      "Processing Images : 277 out of 1200 finished\n",
      "Processing Images : 278 out of 1200 finished\n",
      "Processing Images : 279 out of 1200 finished\n",
      "Processing Images : 280 out of 1200 finished\n",
      "Processing Images : 281 out of 1200 finished\n",
      "Processing Images : 282 out of 1200 finished\n",
      "Processing Images : 283 out of 1200 finished\n",
      "Processing Images : 284 out of 1200 finished\n",
      "Processing Images : 285 out of 1200 finished\n",
      "Processing Images : 286 out of 1200 finished\n",
      "Processing Images : 287 out of 1200 finished\n",
      "Processing Images : 288 out of 1200 finished\n",
      "Processing Images : 289 out of 1200 finished\n",
      "Processing Images : 290 out of 1200 finished\n",
      "Processing Images : 291 out of 1200 finished\n",
      "Processing Images : 292 out of 1200 finished\n",
      "Processing Images : 293 out of 1200 finished\n",
      "Processing Images : 294 out of 1200 finished\n",
      "Processing Images : 295 out of 1200 finished\n",
      "Processing Images : 296 out of 1200 finished\n",
      "Processing Images : 297 out of 1200 finished\n",
      "Processing Images : 298 out of 1200 finished\n",
      "Processing Images : 299 out of 1200 finished\n",
      "Processing Images : 300 out of 1200 finished\n",
      "Processing Images : 301 out of 1200 finished\n",
      "Processing Images : 302 out of 1200 finished\n",
      "Processing Images : 303 out of 1200 finished\n",
      "Processing Images : 304 out of 1200 finished\n",
      "Processing Images : 305 out of 1200 finished\n",
      "Processing Images : 306 out of 1200 finished\n",
      "Processing Images : 307 out of 1200 finished\n",
      "Processing Images : 308 out of 1200 finished\n",
      "Processing Images : 309 out of 1200 finished\n",
      "Processing Images : 310 out of 1200 finished\n",
      "Processing Images : 311 out of 1200 finished\n",
      "Processing Images : 312 out of 1200 finished\n",
      "Processing Images : 313 out of 1200 finished\n",
      "Processing Images : 314 out of 1200 finished\n",
      "Processing Images : 315 out of 1200 finished\n",
      "Processing Images : 316 out of 1200 finished\n",
      "Processing Images : 317 out of 1200 finished\n",
      "Processing Images : 318 out of 1200 finished\n",
      "Processing Images : 319 out of 1200 finished\n",
      "Processing Images : 320 out of 1200 finished\n",
      "Processing Images : 321 out of 1200 finished\n",
      "Processing Images : 322 out of 1200 finished\n",
      "Processing Images : 323 out of 1200 finished\n",
      "Processing Images : 324 out of 1200 finished\n",
      "Processing Images : 325 out of 1200 finished\n",
      "Processing Images : 326 out of 1200 finished\n",
      "Processing Images : 327 out of 1200 finished\n",
      "Processing Images : 328 out of 1200 finished\n",
      "Processing Images : 329 out of 1200 finished\n",
      "Processing Images : 330 out of 1200 finished\n",
      "Processing Images : 331 out of 1200 finished\n",
      "Processing Images : 332 out of 1200 finished\n",
      "Processing Images : 333 out of 1200 finished\n",
      "Processing Images : 334 out of 1200 finished\n",
      "Processing Images : 335 out of 1200 finished\n",
      "Processing Images : 336 out of 1200 finished\n",
      "Processing Images : 337 out of 1200 finished\n",
      "Processing Images : 338 out of 1200 finished\n",
      "Processing Images : 339 out of 1200 finished\n",
      "Processing Images : 340 out of 1200 finished\n",
      "Processing Images : 341 out of 1200 finished\n",
      "Processing Images : 342 out of 1200 finished\n",
      "Processing Images : 343 out of 1200 finished\n",
      "Processing Images : 344 out of 1200 finished\n",
      "Processing Images : 345 out of 1200 finished\n",
      "Processing Images : 346 out of 1200 finished\n",
      "Processing Images : 347 out of 1200 finished\n",
      "Processing Images : 348 out of 1200 finished\n",
      "Processing Images : 349 out of 1200 finished\n",
      "Processing Images : 350 out of 1200 finished\n",
      "Processing Images : 351 out of 1200 finished\n",
      "Processing Images : 352 out of 1200 finished\n",
      "Processing Images : 353 out of 1200 finished\n",
      "Processing Images : 354 out of 1200 finished\n",
      "Processing Images : 355 out of 1200 finished\n",
      "Processing Images : 356 out of 1200 finished\n",
      "Processing Images : 357 out of 1200 finished\n",
      "Processing Images : 358 out of 1200 finished\n",
      "Processing Images : 359 out of 1200 finished\n",
      "Processing Images : 360 out of 1200 finished\n",
      "Processing Images : 361 out of 1200 finished\n",
      "Processing Images : 362 out of 1200 finished\n",
      "Processing Images : 363 out of 1200 finished\n",
      "Processing Images : 364 out of 1200 finished\n",
      "Processing Images : 365 out of 1200 finished\n",
      "Processing Images : 366 out of 1200 finished\n",
      "Processing Images : 367 out of 1200 finished\n",
      "Processing Images : 368 out of 1200 finished\n",
      "Processing Images : 369 out of 1200 finished\n",
      "Processing Images : 370 out of 1200 finished\n",
      "Processing Images : 371 out of 1200 finished\n",
      "Processing Images : 372 out of 1200 finished\n",
      "Processing Images : 373 out of 1200 finished\n",
      "Processing Images : 374 out of 1200 finished\n",
      "Processing Images : 375 out of 1200 finished\n",
      "Processing Images : 376 out of 1200 finished\n",
      "Processing Images : 377 out of 1200 finished\n",
      "Processing Images : 378 out of 1200 finished\n",
      "Processing Images : 379 out of 1200 finished\n",
      "Processing Images : 380 out of 1200 finished\n",
      "Processing Images : 381 out of 1200 finished\n",
      "Processing Images : 382 out of 1200 finished\n",
      "Processing Images : 383 out of 1200 finished\n",
      "Processing Images : 384 out of 1200 finished\n",
      "Processing Images : 385 out of 1200 finished\n",
      "Processing Images : 386 out of 1200 finished\n",
      "Processing Images : 387 out of 1200 finished\n",
      "Processing Images : 388 out of 1200 finished\n",
      "Processing Images : 389 out of 1200 finished\n",
      "Processing Images : 390 out of 1200 finished\n",
      "Processing Images : 391 out of 1200 finished\n",
      "Processing Images : 392 out of 1200 finished\n",
      "Processing Images : 393 out of 1200 finished\n",
      "Processing Images : 394 out of 1200 finished\n",
      "Processing Images : 395 out of 1200 finished\n",
      "Processing Images : 396 out of 1200 finished\n",
      "Processing Images : 397 out of 1200 finished\n",
      "Processing Images : 398 out of 1200 finished\n",
      "Processing Images : 399 out of 1200 finished\n",
      "Processing Images : 400 out of 1200 finished\n",
      "Processing Images : 401 out of 1200 finished\n",
      "Processing Images : 402 out of 1200 finished\n",
      "Processing Images : 403 out of 1200 finished\n",
      "Processing Images : 404 out of 1200 finished\n",
      "Processing Images : 405 out of 1200 finished\n",
      "Processing Images : 406 out of 1200 finished\n",
      "Processing Images : 407 out of 1200 finished\n",
      "Processing Images : 408 out of 1200 finished\n",
      "Processing Images : 409 out of 1200 finished\n",
      "Processing Images : 410 out of 1200 finished\n",
      "Processing Images : 411 out of 1200 finished\n",
      "Processing Images : 412 out of 1200 finished\n",
      "Processing Images : 413 out of 1200 finished\n",
      "Processing Images : 414 out of 1200 finished\n",
      "Processing Images : 415 out of 1200 finished\n",
      "Processing Images : 416 out of 1200 finished\n",
      "Processing Images : 417 out of 1200 finished\n",
      "Processing Images : 418 out of 1200 finished\n",
      "Processing Images : 419 out of 1200 finished\n",
      "Processing Images : 420 out of 1200 finished\n",
      "Processing Images : 421 out of 1200 finished\n",
      "Processing Images : 422 out of 1200 finished\n",
      "Processing Images : 423 out of 1200 finished\n",
      "Processing Images : 424 out of 1200 finished\n",
      "Processing Images : 425 out of 1200 finished\n",
      "Processing Images : 426 out of 1200 finished\n",
      "Processing Images : 427 out of 1200 finished\n",
      "Processing Images : 428 out of 1200 finished\n",
      "Processing Images : 429 out of 1200 finished\n",
      "Processing Images : 430 out of 1200 finished\n",
      "Processing Images : 431 out of 1200 finished\n",
      "Processing Images : 432 out of 1200 finished\n",
      "Processing Images : 433 out of 1200 finished\n",
      "Processing Images : 434 out of 1200 finished\n",
      "Processing Images : 435 out of 1200 finished\n",
      "Processing Images : 436 out of 1200 finished\n",
      "Processing Images : 437 out of 1200 finished\n",
      "Processing Images : 438 out of 1200 finished\n",
      "Processing Images : 439 out of 1200 finished\n",
      "Processing Images : 440 out of 1200 finished\n",
      "Processing Images : 441 out of 1200 finished\n",
      "Processing Images : 442 out of 1200 finished\n",
      "Processing Images : 443 out of 1200 finished\n",
      "Processing Images : 444 out of 1200 finished\n",
      "Processing Images : 445 out of 1200 finished\n",
      "Processing Images : 446 out of 1200 finished\n",
      "Processing Images : 447 out of 1200 finished\n",
      "Processing Images : 448 out of 1200 finished\n",
      "Processing Images : 449 out of 1200 finished\n",
      "Processing Images : 450 out of 1200 finished\n",
      "Processing Images : 451 out of 1200 finished\n",
      "Processing Images : 452 out of 1200 finished\n",
      "Processing Images : 453 out of 1200 finished\n",
      "Processing Images : 454 out of 1200 finished\n",
      "Processing Images : 455 out of 1200 finished\n",
      "Processing Images : 456 out of 1200 finished\n",
      "Processing Images : 457 out of 1200 finished\n",
      "Processing Images : 458 out of 1200 finished\n",
      "Processing Images : 459 out of 1200 finished\n",
      "Processing Images : 460 out of 1200 finished\n",
      "Processing Images : 461 out of 1200 finished\n",
      "Processing Images : 462 out of 1200 finished\n",
      "Processing Images : 463 out of 1200 finished\n",
      "Processing Images : 464 out of 1200 finished\n",
      "Processing Images : 465 out of 1200 finished\n",
      "Processing Images : 466 out of 1200 finished\n",
      "Processing Images : 467 out of 1200 finished\n",
      "Processing Images : 468 out of 1200 finished\n",
      "Processing Images : 469 out of 1200 finished\n",
      "Processing Images : 470 out of 1200 finished\n",
      "Processing Images : 471 out of 1200 finished\n",
      "Processing Images : 472 out of 1200 finished\n",
      "Processing Images : 473 out of 1200 finished\n",
      "Processing Images : 474 out of 1200 finished\n",
      "Processing Images : 475 out of 1200 finished\n",
      "Processing Images : 476 out of 1200 finished\n",
      "Processing Images : 477 out of 1200 finished\n",
      "Processing Images : 478 out of 1200 finished\n",
      "Processing Images : 479 out of 1200 finished\n",
      "Processing Images : 480 out of 1200 finished\n",
      "Processing Images : 481 out of 1200 finished\n",
      "Processing Images : 482 out of 1200 finished\n",
      "Processing Images : 483 out of 1200 finished\n",
      "Processing Images : 484 out of 1200 finished\n",
      "Processing Images : 485 out of 1200 finished\n",
      "Processing Images : 486 out of 1200 finished\n",
      "Processing Images : 487 out of 1200 finished\n",
      "Processing Images : 488 out of 1200 finished\n",
      "Processing Images : 489 out of 1200 finished\n",
      "Processing Images : 490 out of 1200 finished\n",
      "Processing Images : 491 out of 1200 finished\n",
      "Processing Images : 492 out of 1200 finished\n",
      "Processing Images : 493 out of 1200 finished\n",
      "Processing Images : 494 out of 1200 finished\n",
      "Processing Images : 495 out of 1200 finished\n",
      "Processing Images : 496 out of 1200 finished\n",
      "Processing Images : 497 out of 1200 finished\n",
      "Processing Images : 498 out of 1200 finished\n",
      "Processing Images : 499 out of 1200 finished\n",
      "Processing Images : 500 out of 1200 finished\n",
      "Processing Images : 501 out of 1200 finished\n",
      "Processing Images : 502 out of 1200 finished\n",
      "Processing Images : 503 out of 1200 finished\n",
      "Processing Images : 504 out of 1200 finished\n",
      "Processing Images : 505 out of 1200 finished\n",
      "Processing Images : 506 out of 1200 finished\n",
      "Processing Images : 507 out of 1200 finished\n",
      "Processing Images : 508 out of 1200 finished\n",
      "Processing Images : 509 out of 1200 finished\n",
      "Processing Images : 510 out of 1200 finished\n",
      "Processing Images : 511 out of 1200 finished\n",
      "Processing Images : 512 out of 1200 finished\n",
      "Processing Images : 513 out of 1200 finished\n",
      "Processing Images : 514 out of 1200 finished\n",
      "Processing Images : 515 out of 1200 finished\n",
      "Processing Images : 516 out of 1200 finished\n",
      "Processing Images : 517 out of 1200 finished\n",
      "Processing Images : 518 out of 1200 finished\n",
      "Processing Images : 519 out of 1200 finished\n",
      "Processing Images : 520 out of 1200 finished\n",
      "Processing Images : 521 out of 1200 finished\n",
      "Processing Images : 522 out of 1200 finished\n",
      "Processing Images : 523 out of 1200 finished\n",
      "Processing Images : 524 out of 1200 finished\n",
      "Processing Images : 525 out of 1200 finished\n",
      "Processing Images : 526 out of 1200 finished\n",
      "Processing Images : 527 out of 1200 finished\n",
      "Processing Images : 528 out of 1200 finished\n",
      "Processing Images : 529 out of 1200 finished\n",
      "Processing Images : 530 out of 1200 finished\n",
      "Processing Images : 531 out of 1200 finished\n",
      "Processing Images : 532 out of 1200 finished\n",
      "Processing Images : 533 out of 1200 finished\n",
      "Processing Images : 534 out of 1200 finished\n",
      "Processing Images : 535 out of 1200 finished\n",
      "Processing Images : 536 out of 1200 finished\n",
      "Processing Images : 537 out of 1200 finished\n",
      "Processing Images : 538 out of 1200 finished\n",
      "Processing Images : 539 out of 1200 finished\n",
      "Processing Images : 540 out of 1200 finished\n",
      "Processing Images : 541 out of 1200 finished\n",
      "Processing Images : 542 out of 1200 finished\n",
      "Processing Images : 543 out of 1200 finished\n",
      "Processing Images : 544 out of 1200 finished\n",
      "Processing Images : 545 out of 1200 finished\n",
      "Processing Images : 546 out of 1200 finished\n",
      "Processing Images : 547 out of 1200 finished\n",
      "Processing Images : 548 out of 1200 finished\n",
      "Processing Images : 549 out of 1200 finished\n",
      "Processing Images : 550 out of 1200 finished\n",
      "Processing Images : 551 out of 1200 finished\n",
      "Processing Images : 552 out of 1200 finished\n",
      "Processing Images : 553 out of 1200 finished\n",
      "Processing Images : 554 out of 1200 finished\n",
      "Processing Images : 555 out of 1200 finished\n",
      "Processing Images : 556 out of 1200 finished\n",
      "Processing Images : 557 out of 1200 finished\n",
      "Processing Images : 558 out of 1200 finished\n",
      "Processing Images : 559 out of 1200 finished\n",
      "Processing Images : 560 out of 1200 finished\n",
      "Processing Images : 561 out of 1200 finished\n",
      "Processing Images : 562 out of 1200 finished\n",
      "Processing Images : 563 out of 1200 finished\n",
      "Processing Images : 564 out of 1200 finished\n",
      "Processing Images : 565 out of 1200 finished\n",
      "Processing Images : 566 out of 1200 finished\n",
      "Processing Images : 567 out of 1200 finished\n",
      "Processing Images : 568 out of 1200 finished\n",
      "Processing Images : 569 out of 1200 finished\n",
      "Processing Images : 570 out of 1200 finished\n",
      "Processing Images : 571 out of 1200 finished\n",
      "Processing Images : 572 out of 1200 finished\n",
      "Processing Images : 573 out of 1200 finished\n",
      "Processing Images : 574 out of 1200 finished\n",
      "Processing Images : 575 out of 1200 finished\n",
      "Processing Images : 576 out of 1200 finished\n",
      "Processing Images : 577 out of 1200 finished\n",
      "Processing Images : 578 out of 1200 finished\n",
      "Processing Images : 579 out of 1200 finished\n",
      "Processing Images : 580 out of 1200 finished\n",
      "Processing Images : 581 out of 1200 finished\n",
      "Processing Images : 582 out of 1200 finished\n",
      "Processing Images : 583 out of 1200 finished\n",
      "Processing Images : 584 out of 1200 finished\n",
      "Processing Images : 585 out of 1200 finished\n",
      "Processing Images : 586 out of 1200 finished\n",
      "Processing Images : 587 out of 1200 finished\n",
      "Processing Images : 588 out of 1200 finished\n",
      "Processing Images : 589 out of 1200 finished\n",
      "Processing Images : 590 out of 1200 finished\n",
      "Processing Images : 591 out of 1200 finished\n",
      "Processing Images : 592 out of 1200 finished\n",
      "Processing Images : 593 out of 1200 finished\n",
      "Processing Images : 594 out of 1200 finished\n",
      "Processing Images : 595 out of 1200 finished\n",
      "Processing Images : 596 out of 1200 finished\n",
      "Processing Images : 597 out of 1200 finished\n",
      "Processing Images : 598 out of 1200 finished\n",
      "Processing Images : 599 out of 1200 finished\n",
      "Processing Images : 600 out of 1200 finished\n",
      "Processing Images : 601 out of 1200 finished\n",
      "Processing Images : 602 out of 1200 finished\n",
      "Processing Images : 603 out of 1200 finished\n",
      "Processing Images : 604 out of 1200 finished\n",
      "Processing Images : 605 out of 1200 finished\n",
      "Processing Images : 606 out of 1200 finished\n",
      "Processing Images : 607 out of 1200 finished\n",
      "Processing Images : 608 out of 1200 finished\n",
      "Processing Images : 609 out of 1200 finished\n",
      "Processing Images : 610 out of 1200 finished\n",
      "Processing Images : 611 out of 1200 finished\n",
      "Processing Images : 612 out of 1200 finished\n",
      "Processing Images : 613 out of 1200 finished\n",
      "Processing Images : 614 out of 1200 finished\n",
      "Processing Images : 615 out of 1200 finished\n",
      "Processing Images : 616 out of 1200 finished\n",
      "Processing Images : 617 out of 1200 finished\n",
      "Processing Images : 618 out of 1200 finished\n",
      "Processing Images : 619 out of 1200 finished\n",
      "Processing Images : 620 out of 1200 finished\n",
      "Processing Images : 621 out of 1200 finished\n",
      "Processing Images : 622 out of 1200 finished\n",
      "Processing Images : 623 out of 1200 finished\n",
      "Processing Images : 624 out of 1200 finished\n",
      "Processing Images : 625 out of 1200 finished\n",
      "Processing Images : 626 out of 1200 finished\n",
      "Processing Images : 627 out of 1200 finished\n",
      "Processing Images : 628 out of 1200 finished\n",
      "Processing Images : 629 out of 1200 finished\n",
      "Processing Images : 630 out of 1200 finished\n",
      "Processing Images : 631 out of 1200 finished\n",
      "Processing Images : 632 out of 1200 finished\n",
      "Processing Images : 633 out of 1200 finished\n",
      "Processing Images : 634 out of 1200 finished\n",
      "Processing Images : 635 out of 1200 finished\n",
      "Processing Images : 636 out of 1200 finished\n",
      "Processing Images : 637 out of 1200 finished\n",
      "Processing Images : 638 out of 1200 finished\n",
      "Processing Images : 639 out of 1200 finished\n",
      "Processing Images : 640 out of 1200 finished\n",
      "Processing Images : 641 out of 1200 finished\n",
      "Processing Images : 642 out of 1200 finished\n",
      "Processing Images : 643 out of 1200 finished\n",
      "Processing Images : 644 out of 1200 finished\n",
      "Processing Images : 645 out of 1200 finished\n",
      "Processing Images : 646 out of 1200 finished\n",
      "Processing Images : 647 out of 1200 finished\n",
      "Processing Images : 648 out of 1200 finished\n",
      "Processing Images : 649 out of 1200 finished\n",
      "Processing Images : 650 out of 1200 finished\n",
      "Processing Images : 651 out of 1200 finished\n",
      "Processing Images : 652 out of 1200 finished\n",
      "Processing Images : 653 out of 1200 finished\n",
      "Processing Images : 654 out of 1200 finished\n",
      "Processing Images : 655 out of 1200 finished\n",
      "Processing Images : 656 out of 1200 finished\n",
      "Processing Images : 657 out of 1200 finished\n",
      "Processing Images : 658 out of 1200 finished\n",
      "Processing Images : 659 out of 1200 finished\n",
      "Processing Images : 660 out of 1200 finished\n",
      "Processing Images : 661 out of 1200 finished\n",
      "Processing Images : 662 out of 1200 finished\n",
      "Processing Images : 663 out of 1200 finished\n",
      "Processing Images : 664 out of 1200 finished\n",
      "Processing Images : 665 out of 1200 finished\n",
      "Processing Images : 666 out of 1200 finished\n",
      "Processing Images : 667 out of 1200 finished\n",
      "Processing Images : 668 out of 1200 finished\n",
      "Processing Images : 669 out of 1200 finished\n",
      "Processing Images : 670 out of 1200 finished\n",
      "Processing Images : 671 out of 1200 finished\n",
      "Processing Images : 672 out of 1200 finished\n",
      "Processing Images : 673 out of 1200 finished\n",
      "Processing Images : 674 out of 1200 finished\n",
      "Processing Images : 675 out of 1200 finished\n",
      "Processing Images : 676 out of 1200 finished\n",
      "Processing Images : 677 out of 1200 finished\n",
      "Processing Images : 678 out of 1200 finished\n",
      "Processing Images : 679 out of 1200 finished\n",
      "Processing Images : 680 out of 1200 finished\n",
      "Processing Images : 681 out of 1200 finished\n",
      "Processing Images : 682 out of 1200 finished\n",
      "Processing Images : 683 out of 1200 finished\n",
      "Processing Images : 684 out of 1200 finished\n",
      "Processing Images : 685 out of 1200 finished\n",
      "Processing Images : 686 out of 1200 finished\n",
      "Processing Images : 687 out of 1200 finished\n",
      "Processing Images : 688 out of 1200 finished\n",
      "Processing Images : 689 out of 1200 finished\n",
      "Processing Images : 690 out of 1200 finished\n",
      "Processing Images : 691 out of 1200 finished\n",
      "Processing Images : 692 out of 1200 finished\n",
      "Processing Images : 693 out of 1200 finished\n",
      "Processing Images : 694 out of 1200 finished\n",
      "Processing Images : 695 out of 1200 finished\n",
      "Processing Images : 696 out of 1200 finished\n",
      "Processing Images : 697 out of 1200 finished\n",
      "Processing Images : 698 out of 1200 finished\n",
      "Processing Images : 699 out of 1200 finished\n",
      "Processing Images : 700 out of 1200 finished\n",
      "Processing Images : 701 out of 1200 finished\n",
      "Processing Images : 702 out of 1200 finished\n",
      "Processing Images : 703 out of 1200 finished\n",
      "Processing Images : 704 out of 1200 finished\n",
      "Processing Images : 705 out of 1200 finished\n",
      "Processing Images : 706 out of 1200 finished\n",
      "Processing Images : 707 out of 1200 finished\n",
      "Processing Images : 708 out of 1200 finished\n",
      "Processing Images : 709 out of 1200 finished\n",
      "Processing Images : 710 out of 1200 finished\n",
      "Processing Images : 711 out of 1200 finished\n",
      "Processing Images : 712 out of 1200 finished\n",
      "Processing Images : 713 out of 1200 finished\n",
      "Processing Images : 714 out of 1200 finished\n",
      "Processing Images : 715 out of 1200 finished\n",
      "Processing Images : 716 out of 1200 finished\n",
      "Processing Images : 717 out of 1200 finished\n",
      "Processing Images : 718 out of 1200 finished\n",
      "Processing Images : 719 out of 1200 finished\n",
      "Processing Images : 720 out of 1200 finished\n",
      "Processing Images : 721 out of 1200 finished\n",
      "Processing Images : 722 out of 1200 finished\n",
      "Processing Images : 723 out of 1200 finished\n",
      "Processing Images : 724 out of 1200 finished\n",
      "Processing Images : 725 out of 1200 finished\n",
      "Processing Images : 726 out of 1200 finished\n",
      "Processing Images : 727 out of 1200 finished\n",
      "Processing Images : 728 out of 1200 finished\n",
      "Processing Images : 729 out of 1200 finished\n",
      "Processing Images : 730 out of 1200 finished\n",
      "Processing Images : 731 out of 1200 finished\n",
      "Processing Images : 732 out of 1200 finished\n",
      "Processing Images : 733 out of 1200 finished\n",
      "Processing Images : 734 out of 1200 finished\n",
      "Processing Images : 735 out of 1200 finished\n",
      "Processing Images : 736 out of 1200 finished\n",
      "Processing Images : 737 out of 1200 finished\n",
      "Processing Images : 738 out of 1200 finished\n",
      "Processing Images : 739 out of 1200 finished\n",
      "Processing Images : 740 out of 1200 finished\n",
      "Processing Images : 741 out of 1200 finished\n",
      "Processing Images : 742 out of 1200 finished\n",
      "Processing Images : 743 out of 1200 finished\n",
      "Processing Images : 744 out of 1200 finished\n",
      "Processing Images : 745 out of 1200 finished\n",
      "Processing Images : 746 out of 1200 finished\n",
      "Processing Images : 747 out of 1200 finished\n",
      "Processing Images : 748 out of 1200 finished\n",
      "Processing Images : 749 out of 1200 finished\n",
      "Processing Images : 750 out of 1200 finished\n",
      "Processing Images : 751 out of 1200 finished\n",
      "Processing Images : 752 out of 1200 finished\n",
      "Processing Images : 753 out of 1200 finished\n",
      "Processing Images : 754 out of 1200 finished\n",
      "Processing Images : 755 out of 1200 finished\n",
      "Processing Images : 756 out of 1200 finished\n",
      "Processing Images : 757 out of 1200 finished\n",
      "Processing Images : 758 out of 1200 finished\n",
      "Processing Images : 759 out of 1200 finished\n",
      "Processing Images : 760 out of 1200 finished\n",
      "Processing Images : 761 out of 1200 finished\n",
      "Processing Images : 762 out of 1200 finished\n",
      "Processing Images : 763 out of 1200 finished\n",
      "Processing Images : 764 out of 1200 finished\n",
      "Processing Images : 765 out of 1200 finished\n",
      "Processing Images : 766 out of 1200 finished\n",
      "Processing Images : 767 out of 1200 finished\n",
      "Processing Images : 768 out of 1200 finished\n",
      "Processing Images : 769 out of 1200 finished\n",
      "Processing Images : 770 out of 1200 finished\n",
      "Processing Images : 771 out of 1200 finished\n",
      "Processing Images : 772 out of 1200 finished\n",
      "Processing Images : 773 out of 1200 finished\n",
      "Processing Images : 774 out of 1200 finished\n",
      "Processing Images : 775 out of 1200 finished\n",
      "Processing Images : 776 out of 1200 finished\n",
      "Processing Images : 777 out of 1200 finished\n",
      "Processing Images : 778 out of 1200 finished\n",
      "Processing Images : 779 out of 1200 finished\n",
      "Processing Images : 780 out of 1200 finished\n",
      "Processing Images : 781 out of 1200 finished\n",
      "Processing Images : 782 out of 1200 finished\n",
      "Processing Images : 783 out of 1200 finished\n",
      "Processing Images : 784 out of 1200 finished\n",
      "Processing Images : 785 out of 1200 finished\n",
      "Processing Images : 786 out of 1200 finished\n",
      "Processing Images : 787 out of 1200 finished\n",
      "Processing Images : 788 out of 1200 finished\n",
      "Processing Images : 789 out of 1200 finished\n",
      "Processing Images : 790 out of 1200 finished\n",
      "Processing Images : 791 out of 1200 finished\n",
      "Processing Images : 792 out of 1200 finished\n",
      "Processing Images : 793 out of 1200 finished\n",
      "Processing Images : 794 out of 1200 finished\n",
      "Processing Images : 795 out of 1200 finished\n",
      "Processing Images : 796 out of 1200 finished\n",
      "Processing Images : 797 out of 1200 finished\n",
      "Processing Images : 798 out of 1200 finished\n",
      "Processing Images : 799 out of 1200 finished\n",
      "Processing Images : 800 out of 1200 finished\n",
      "Processing Images : 801 out of 1200 finished\n",
      "Processing Images : 802 out of 1200 finished\n",
      "Processing Images : 803 out of 1200 finished\n",
      "Processing Images : 804 out of 1200 finished\n",
      "Processing Images : 805 out of 1200 finished\n",
      "Processing Images : 806 out of 1200 finished\n",
      "Processing Images : 807 out of 1200 finished\n",
      "Processing Images : 808 out of 1200 finished\n",
      "Processing Images : 809 out of 1200 finished\n",
      "Processing Images : 810 out of 1200 finished\n",
      "Processing Images : 811 out of 1200 finished\n",
      "Processing Images : 812 out of 1200 finished\n",
      "Processing Images : 813 out of 1200 finished\n",
      "Processing Images : 814 out of 1200 finished\n",
      "Processing Images : 815 out of 1200 finished\n",
      "Processing Images : 816 out of 1200 finished\n",
      "Processing Images : 817 out of 1200 finished\n",
      "Processing Images : 818 out of 1200 finished\n",
      "Processing Images : 819 out of 1200 finished\n",
      "Processing Images : 820 out of 1200 finished\n",
      "Processing Images : 821 out of 1200 finished\n",
      "Processing Images : 822 out of 1200 finished\n",
      "Processing Images : 823 out of 1200 finished\n",
      "Processing Images : 824 out of 1200 finished\n",
      "Processing Images : 825 out of 1200 finished\n",
      "Processing Images : 826 out of 1200 finished\n",
      "Processing Images : 827 out of 1200 finished\n",
      "Processing Images : 828 out of 1200 finished\n",
      "Processing Images : 829 out of 1200 finished\n",
      "Processing Images : 830 out of 1200 finished\n",
      "Processing Images : 831 out of 1200 finished\n",
      "Processing Images : 832 out of 1200 finished\n",
      "Processing Images : 833 out of 1200 finished\n",
      "Processing Images : 834 out of 1200 finished\n",
      "Processing Images : 835 out of 1200 finished\n",
      "Processing Images : 836 out of 1200 finished\n",
      "Processing Images : 837 out of 1200 finished\n",
      "Processing Images : 838 out of 1200 finished\n",
      "Processing Images : 839 out of 1200 finished\n",
      "Processing Images : 840 out of 1200 finished\n",
      "Processing Images : 841 out of 1200 finished\n",
      "Processing Images : 842 out of 1200 finished\n",
      "Processing Images : 843 out of 1200 finished\n",
      "Processing Images : 844 out of 1200 finished\n",
      "Processing Images : 845 out of 1200 finished\n",
      "Processing Images : 846 out of 1200 finished\n",
      "Processing Images : 847 out of 1200 finished\n",
      "Processing Images : 848 out of 1200 finished\n",
      "Processing Images : 849 out of 1200 finished\n",
      "Processing Images : 850 out of 1200 finished\n",
      "Processing Images : 851 out of 1200 finished\n",
      "Processing Images : 852 out of 1200 finished\n",
      "Processing Images : 853 out of 1200 finished\n",
      "Processing Images : 854 out of 1200 finished\n",
      "Processing Images : 855 out of 1200 finished\n",
      "Processing Images : 856 out of 1200 finished\n",
      "Processing Images : 857 out of 1200 finished\n",
      "Processing Images : 858 out of 1200 finished\n",
      "Processing Images : 859 out of 1200 finished\n",
      "Processing Images : 860 out of 1200 finished\n",
      "Processing Images : 861 out of 1200 finished\n",
      "Processing Images : 862 out of 1200 finished\n",
      "Processing Images : 863 out of 1200 finished\n",
      "Processing Images : 864 out of 1200 finished\n",
      "Processing Images : 865 out of 1200 finished\n",
      "Processing Images : 866 out of 1200 finished\n",
      "Processing Images : 867 out of 1200 finished\n",
      "Processing Images : 868 out of 1200 finished\n",
      "Processing Images : 869 out of 1200 finished\n",
      "Processing Images : 870 out of 1200 finished\n",
      "Processing Images : 871 out of 1200 finished\n",
      "Processing Images : 872 out of 1200 finished\n",
      "Processing Images : 873 out of 1200 finished\n",
      "Processing Images : 874 out of 1200 finished\n",
      "Processing Images : 875 out of 1200 finished\n",
      "Processing Images : 876 out of 1200 finished\n",
      "Processing Images : 877 out of 1200 finished\n",
      "Processing Images : 878 out of 1200 finished\n",
      "Processing Images : 879 out of 1200 finished\n",
      "Processing Images : 880 out of 1200 finished\n",
      "Processing Images : 881 out of 1200 finished\n",
      "Processing Images : 882 out of 1200 finished\n",
      "Processing Images : 883 out of 1200 finished\n",
      "Processing Images : 884 out of 1200 finished\n",
      "Processing Images : 885 out of 1200 finished\n",
      "Processing Images : 886 out of 1200 finished\n",
      "Processing Images : 887 out of 1200 finished\n",
      "Processing Images : 888 out of 1200 finished\n",
      "Processing Images : 889 out of 1200 finished\n",
      "Processing Images : 890 out of 1200 finished\n",
      "Processing Images : 891 out of 1200 finished\n",
      "Processing Images : 892 out of 1200 finished\n",
      "Processing Images : 893 out of 1200 finished\n",
      "Processing Images : 894 out of 1200 finished\n",
      "Processing Images : 895 out of 1200 finished\n",
      "Processing Images : 896 out of 1200 finished\n",
      "Processing Images : 897 out of 1200 finished\n",
      "Processing Images : 898 out of 1200 finished\n",
      "Processing Images : 899 out of 1200 finished\n",
      "Processing Images : 900 out of 1200 finished\n",
      "Processing Images : 901 out of 1200 finished\n",
      "Processing Images : 902 out of 1200 finished\n",
      "Processing Images : 903 out of 1200 finished\n",
      "Processing Images : 904 out of 1200 finished\n",
      "Processing Images : 905 out of 1200 finished\n",
      "Processing Images : 906 out of 1200 finished\n",
      "Processing Images : 907 out of 1200 finished\n",
      "Processing Images : 908 out of 1200 finished\n",
      "Processing Images : 909 out of 1200 finished\n",
      "Processing Images : 910 out of 1200 finished\n",
      "Processing Images : 911 out of 1200 finished\n",
      "Processing Images : 912 out of 1200 finished\n",
      "Processing Images : 913 out of 1200 finished\n",
      "Processing Images : 914 out of 1200 finished\n",
      "Processing Images : 915 out of 1200 finished\n",
      "Processing Images : 916 out of 1200 finished\n",
      "Processing Images : 917 out of 1200 finished\n",
      "Processing Images : 918 out of 1200 finished\n",
      "Processing Images : 919 out of 1200 finished\n",
      "Processing Images : 920 out of 1200 finished\n",
      "Processing Images : 921 out of 1200 finished\n",
      "Processing Images : 922 out of 1200 finished\n",
      "Processing Images : 923 out of 1200 finished\n",
      "Processing Images : 924 out of 1200 finished\n",
      "Processing Images : 925 out of 1200 finished\n",
      "Processing Images : 926 out of 1200 finished\n",
      "Processing Images : 927 out of 1200 finished\n",
      "Processing Images : 928 out of 1200 finished\n",
      "Processing Images : 929 out of 1200 finished\n",
      "Processing Images : 930 out of 1200 finished\n",
      "Processing Images : 931 out of 1200 finished\n",
      "Processing Images : 932 out of 1200 finished\n",
      "Processing Images : 933 out of 1200 finished\n",
      "Processing Images : 934 out of 1200 finished\n",
      "Processing Images : 935 out of 1200 finished\n",
      "Processing Images : 936 out of 1200 finished\n",
      "Processing Images : 937 out of 1200 finished\n",
      "Processing Images : 938 out of 1200 finished\n",
      "Processing Images : 939 out of 1200 finished\n",
      "Processing Images : 940 out of 1200 finished\n",
      "Processing Images : 941 out of 1200 finished\n",
      "Processing Images : 942 out of 1200 finished\n",
      "Processing Images : 943 out of 1200 finished\n",
      "Processing Images : 944 out of 1200 finished\n",
      "Processing Images : 945 out of 1200 finished\n",
      "Processing Images : 946 out of 1200 finished\n",
      "Processing Images : 947 out of 1200 finished\n",
      "Processing Images : 948 out of 1200 finished\n",
      "Processing Images : 949 out of 1200 finished\n",
      "Processing Images : 950 out of 1200 finished\n",
      "Processing Images : 951 out of 1200 finished\n",
      "Processing Images : 952 out of 1200 finished\n",
      "Processing Images : 953 out of 1200 finished\n",
      "Processing Images : 954 out of 1200 finished\n",
      "Processing Images : 955 out of 1200 finished\n",
      "Processing Images : 956 out of 1200 finished\n",
      "Processing Images : 957 out of 1200 finished\n",
      "Processing Images : 958 out of 1200 finished\n",
      "Processing Images : 959 out of 1200 finished\n",
      "Processing Images : 960 out of 1200 finished\n",
      "Processing Images : 961 out of 1200 finished\n",
      "Processing Images : 962 out of 1200 finished\n",
      "Processing Images : 963 out of 1200 finished\n",
      "Processing Images : 964 out of 1200 finished\n",
      "Processing Images : 965 out of 1200 finished\n",
      "Processing Images : 966 out of 1200 finished\n",
      "Processing Images : 967 out of 1200 finished\n",
      "Processing Images : 968 out of 1200 finished\n",
      "Processing Images : 969 out of 1200 finished\n",
      "Processing Images : 970 out of 1200 finished\n",
      "Processing Images : 971 out of 1200 finished\n",
      "Processing Images : 972 out of 1200 finished\n",
      "Processing Images : 973 out of 1200 finished\n",
      "Processing Images : 974 out of 1200 finished\n",
      "Processing Images : 975 out of 1200 finished\n",
      "Processing Images : 976 out of 1200 finished\n",
      "Processing Images : 977 out of 1200 finished\n",
      "Processing Images : 978 out of 1200 finished\n",
      "Processing Images : 979 out of 1200 finished\n",
      "Processing Images : 980 out of 1200 finished\n",
      "Processing Images : 981 out of 1200 finished\n",
      "Processing Images : 982 out of 1200 finished\n",
      "Processing Images : 983 out of 1200 finished\n",
      "Processing Images : 984 out of 1200 finished\n",
      "Processing Images : 985 out of 1200 finished\n",
      "Processing Images : 986 out of 1200 finished\n",
      "Processing Images : 987 out of 1200 finished\n",
      "Processing Images : 988 out of 1200 finished\n",
      "Processing Images : 989 out of 1200 finished\n",
      "Processing Images : 990 out of 1200 finished\n",
      "Processing Images : 991 out of 1200 finished\n",
      "Processing Images : 992 out of 1200 finished\n",
      "Processing Images : 993 out of 1200 finished\n",
      "Processing Images : 994 out of 1200 finished\n",
      "Processing Images : 995 out of 1200 finished\n",
      "Processing Images : 996 out of 1200 finished\n",
      "Processing Images : 997 out of 1200 finished\n",
      "Processing Images : 998 out of 1200 finished\n",
      "Processing Images : 999 out of 1200 finished\n",
      "Processing Images : 1000 out of 1200 finished\n",
      "Processing Images : 1001 out of 1200 finished\n",
      "Processing Images : 1002 out of 1200 finished\n",
      "Processing Images : 1003 out of 1200 finished\n",
      "Processing Images : 1004 out of 1200 finished\n",
      "Processing Images : 1005 out of 1200 finished\n",
      "Processing Images : 1006 out of 1200 finished\n",
      "Processing Images : 1007 out of 1200 finished\n",
      "Processing Images : 1008 out of 1200 finished\n",
      "Processing Images : 1009 out of 1200 finished\n",
      "Processing Images : 1010 out of 1200 finished\n",
      "Processing Images : 1011 out of 1200 finished\n",
      "Processing Images : 1012 out of 1200 finished\n",
      "Processing Images : 1013 out of 1200 finished\n",
      "Processing Images : 1014 out of 1200 finished\n",
      "Processing Images : 1015 out of 1200 finished\n",
      "Processing Images : 1016 out of 1200 finished\n",
      "Processing Images : 1017 out of 1200 finished\n",
      "Processing Images : 1018 out of 1200 finished\n",
      "Processing Images : 1019 out of 1200 finished\n",
      "Processing Images : 1020 out of 1200 finished\n",
      "Processing Images : 1021 out of 1200 finished\n",
      "Processing Images : 1022 out of 1200 finished\n",
      "Processing Images : 1023 out of 1200 finished\n",
      "Processing Images : 1024 out of 1200 finished\n",
      "Processing Images : 1025 out of 1200 finished\n",
      "Processing Images : 1026 out of 1200 finished\n",
      "Processing Images : 1027 out of 1200 finished\n",
      "Processing Images : 1028 out of 1200 finished\n",
      "Processing Images : 1029 out of 1200 finished\n",
      "Processing Images : 1030 out of 1200 finished\n",
      "Processing Images : 1031 out of 1200 finished\n",
      "Processing Images : 1032 out of 1200 finished\n",
      "Processing Images : 1033 out of 1200 finished\n",
      "Processing Images : 1034 out of 1200 finished\n",
      "Processing Images : 1035 out of 1200 finished\n",
      "Processing Images : 1036 out of 1200 finished\n",
      "Processing Images : 1037 out of 1200 finished\n",
      "Processing Images : 1038 out of 1200 finished\n",
      "Processing Images : 1039 out of 1200 finished\n",
      "Processing Images : 1040 out of 1200 finished\n",
      "Processing Images : 1041 out of 1200 finished\n",
      "Processing Images : 1042 out of 1200 finished\n",
      "Processing Images : 1043 out of 1200 finished\n",
      "Processing Images : 1044 out of 1200 finished\n",
      "Processing Images : 1045 out of 1200 finished\n",
      "Processing Images : 1046 out of 1200 finished\n",
      "Processing Images : 1047 out of 1200 finished\n",
      "Processing Images : 1048 out of 1200 finished\n",
      "Processing Images : 1049 out of 1200 finished\n",
      "Processing Images : 1050 out of 1200 finished\n",
      "Processing Images : 1051 out of 1200 finished\n",
      "Processing Images : 1052 out of 1200 finished\n",
      "Processing Images : 1053 out of 1200 finished\n",
      "Processing Images : 1054 out of 1200 finished\n",
      "Processing Images : 1055 out of 1200 finished\n",
      "Processing Images : 1056 out of 1200 finished\n",
      "Processing Images : 1057 out of 1200 finished\n",
      "Processing Images : 1058 out of 1200 finished\n",
      "Processing Images : 1059 out of 1200 finished\n",
      "Processing Images : 1060 out of 1200 finished\n",
      "Processing Images : 1061 out of 1200 finished\n",
      "Processing Images : 1062 out of 1200 finished\n",
      "Processing Images : 1063 out of 1200 finished\n",
      "Processing Images : 1064 out of 1200 finished\n",
      "Processing Images : 1065 out of 1200 finished\n",
      "Processing Images : 1066 out of 1200 finished\n",
      "Processing Images : 1067 out of 1200 finished\n",
      "Processing Images : 1068 out of 1200 finished\n",
      "Processing Images : 1069 out of 1200 finished\n",
      "Processing Images : 1070 out of 1200 finished\n",
      "Processing Images : 1071 out of 1200 finished\n",
      "Processing Images : 1072 out of 1200 finished\n",
      "Processing Images : 1073 out of 1200 finished\n",
      "Processing Images : 1074 out of 1200 finished\n",
      "Processing Images : 1075 out of 1200 finished\n",
      "Processing Images : 1076 out of 1200 finished\n",
      "Processing Images : 1077 out of 1200 finished\n",
      "Processing Images : 1078 out of 1200 finished\n",
      "Processing Images : 1079 out of 1200 finished\n",
      "Processing Images : 1080 out of 1200 finished\n",
      "Processing Images : 1081 out of 1200 finished\n",
      "Processing Images : 1082 out of 1200 finished\n",
      "Processing Images : 1083 out of 1200 finished\n",
      "Processing Images : 1084 out of 1200 finished\n",
      "Processing Images : 1085 out of 1200 finished\n",
      "Processing Images : 1086 out of 1200 finished\n",
      "Processing Images : 1087 out of 1200 finished\n",
      "Processing Images : 1088 out of 1200 finished\n",
      "Processing Images : 1089 out of 1200 finished\n",
      "Processing Images : 1090 out of 1200 finished\n",
      "Processing Images : 1091 out of 1200 finished\n",
      "Processing Images : 1092 out of 1200 finished\n",
      "Processing Images : 1093 out of 1200 finished\n",
      "Processing Images : 1094 out of 1200 finished\n",
      "Processing Images : 1095 out of 1200 finished\n",
      "Processing Images : 1096 out of 1200 finished\n",
      "Processing Images : 1097 out of 1200 finished\n",
      "Processing Images : 1098 out of 1200 finished\n",
      "Processing Images : 1099 out of 1200 finished\n",
      "Processing Images : 1100 out of 1200 finished\n",
      "Processing Images : 1101 out of 1200 finished\n",
      "Processing Images : 1102 out of 1200 finished\n",
      "Processing Images : 1103 out of 1200 finished\n",
      "Processing Images : 1104 out of 1200 finished\n",
      "Processing Images : 1105 out of 1200 finished\n",
      "Processing Images : 1106 out of 1200 finished\n",
      "Processing Images : 1107 out of 1200 finished\n",
      "Processing Images : 1108 out of 1200 finished\n",
      "Processing Images : 1109 out of 1200 finished\n",
      "Processing Images : 1110 out of 1200 finished\n",
      "Processing Images : 1111 out of 1200 finished\n",
      "Processing Images : 1112 out of 1200 finished\n",
      "Processing Images : 1113 out of 1200 finished\n",
      "Processing Images : 1114 out of 1200 finished\n",
      "Processing Images : 1115 out of 1200 finished\n",
      "Processing Images : 1116 out of 1200 finished\n",
      "Processing Images : 1117 out of 1200 finished\n",
      "Processing Images : 1118 out of 1200 finished\n",
      "Processing Images : 1119 out of 1200 finished\n",
      "Processing Images : 1120 out of 1200 finished\n",
      "Processing Images : 1121 out of 1200 finished\n",
      "Processing Images : 1122 out of 1200 finished\n",
      "Processing Images : 1123 out of 1200 finished\n",
      "Processing Images : 1124 out of 1200 finished\n",
      "Processing Images : 1125 out of 1200 finished\n",
      "Processing Images : 1126 out of 1200 finished\n",
      "Processing Images : 1127 out of 1200 finished\n",
      "Processing Images : 1128 out of 1200 finished\n",
      "Processing Images : 1129 out of 1200 finished\n",
      "Processing Images : 1130 out of 1200 finished\n",
      "Processing Images : 1131 out of 1200 finished\n",
      "Processing Images : 1132 out of 1200 finished\n",
      "Processing Images : 1133 out of 1200 finished\n",
      "Processing Images : 1134 out of 1200 finished\n",
      "Processing Images : 1135 out of 1200 finished\n",
      "Processing Images : 1136 out of 1200 finished\n",
      "Processing Images : 1137 out of 1200 finished\n",
      "Processing Images : 1138 out of 1200 finished\n",
      "Processing Images : 1139 out of 1200 finished\n",
      "Processing Images : 1140 out of 1200 finished\n",
      "Processing Images : 1141 out of 1200 finished\n",
      "Processing Images : 1142 out of 1200 finished\n",
      "Processing Images : 1143 out of 1200 finished\n",
      "Processing Images : 1144 out of 1200 finished\n",
      "Processing Images : 1145 out of 1200 finished\n",
      "Processing Images : 1146 out of 1200 finished\n",
      "Processing Images : 1147 out of 1200 finished\n",
      "Processing Images : 1148 out of 1200 finished\n",
      "Processing Images : 1149 out of 1200 finished\n",
      "Processing Images : 1150 out of 1200 finished\n",
      "Processing Images : 1151 out of 1200 finished\n",
      "Processing Images : 1152 out of 1200 finished\n",
      "Processing Images : 1153 out of 1200 finished\n",
      "Processing Images : 1154 out of 1200 finished\n",
      "Processing Images : 1155 out of 1200 finished\n",
      "Processing Images : 1156 out of 1200 finished\n",
      "Processing Images : 1157 out of 1200 finished\n",
      "Processing Images : 1158 out of 1200 finished\n",
      "Processing Images : 1159 out of 1200 finished\n",
      "Processing Images : 1160 out of 1200 finished\n",
      "Processing Images : 1161 out of 1200 finished\n",
      "Processing Images : 1162 out of 1200 finished\n",
      "Processing Images : 1163 out of 1200 finished\n",
      "Processing Images : 1164 out of 1200 finished\n",
      "Processing Images : 1165 out of 1200 finished\n",
      "Processing Images : 1166 out of 1200 finished\n",
      "Processing Images : 1167 out of 1200 finished\n",
      "Processing Images : 1168 out of 1200 finished\n",
      "Processing Images : 1169 out of 1200 finished\n",
      "Processing Images : 1170 out of 1200 finished\n",
      "Processing Images : 1171 out of 1200 finished\n",
      "Processing Images : 1172 out of 1200 finished\n",
      "Processing Images : 1173 out of 1200 finished\n",
      "Processing Images : 1174 out of 1200 finished\n",
      "Processing Images : 1175 out of 1200 finished\n",
      "Processing Images : 1176 out of 1200 finished\n",
      "Processing Images : 1177 out of 1200 finished\n",
      "Processing Images : 1178 out of 1200 finished\n",
      "Processing Images : 1179 out of 1200 finished\n",
      "Processing Images : 1180 out of 1200 finished\n",
      "Processing Images : 1181 out of 1200 finished\n",
      "Processing Images : 1182 out of 1200 finished\n",
      "Processing Images : 1183 out of 1200 finished\n",
      "Processing Images : 1184 out of 1200 finished\n",
      "Processing Images : 1185 out of 1200 finished\n",
      "Processing Images : 1186 out of 1200 finished\n",
      "Processing Images : 1187 out of 1200 finished\n",
      "Processing Images : 1188 out of 1200 finished\n",
      "Processing Images : 1189 out of 1200 finished\n",
      "Processing Images : 1190 out of 1200 finished\n",
      "Processing Images : 1191 out of 1200 finished\n",
      "Processing Images : 1192 out of 1200 finished\n",
      "Processing Images : 1193 out of 1200 finished\n",
      "Processing Images : 1194 out of 1200 finished\n",
      "Processing Images : 1195 out of 1200 finished\n",
      "Processing Images : 1196 out of 1200 finished\n",
      "Processing Images : 1197 out of 1200 finished\n",
      "Processing Images : 1198 out of 1200 finished\n",
      "Processing Images : 1199 out of 1200 finished\n",
      "Processing Images : 1200 out of 1200 finished\n"
     ]
    }
   ],
   "source": [
    "#Read all the katkam-scaled image and combine all data into a dataframe\n",
    "path = r'test1_1200'                     # use your path\n",
    "allimage = glob.glob(os.path.join(path, \"*.jpg\"))     # advisable to use os.path.join as this makes concatenation OS independent\n",
    "im_number = len(allimage)\n",
    "chunks=[]\n",
    "i = 0\n",
    "for f in allimage:\n",
    "    df_from_each = (im_to_df(f) )\n",
    "    chunks.append(df_from_each)\n",
    "    i +=1\n",
    "    print ('Processing Images :',i,'out of', im_number,'finished')\n",
    "imagedata  = pd.concat(chunks, ignore_index=True)\n"
   ]
  },
  {
   "cell_type": "code",
   "execution_count": 64,
   "metadata": {
    "collapsed": false
   },
   "outputs": [],
   "source": [
    "imname = imagedata.Image_name.str.split(pat= '.').str[0].str.split(pat='-').str[1]"
   ]
  },
  {
   "cell_type": "code",
   "execution_count": 65,
   "metadata": {
    "collapsed": false
   },
   "outputs": [],
   "source": [
    "imagedata['image_date'] = imname"
   ]
  },
  {
   "cell_type": "code",
   "execution_count": 66,
   "metadata": {
    "collapsed": false
   },
   "outputs": [],
   "source": [
    "image_data = imagedata.drop(['Image_name'],axis= 1) #The final data set for images"
   ]
  },
  {
   "cell_type": "code",
   "execution_count": 67,
   "metadata": {
    "collapsed": false
   },
   "outputs": [],
   "source": [
    "date_string = data_useful['Date/Time'].str.replace('-','').str.replace(' ','').str.replace(':','')"
   ]
  },
  {
   "cell_type": "code",
   "execution_count": 68,
   "metadata": {
    "collapsed": false
   },
   "outputs": [],
   "source": [
    "data_useful['date/time'] = date_string"
   ]
  },
  {
   "cell_type": "code",
   "execution_count": 69,
   "metadata": {
    "collapsed": false
   },
   "outputs": [],
   "source": [
    "image_time = [x[:-2] for x in imname]  #inmage_time has same format with weather dataframe "
   ]
  },
  {
   "cell_type": "code",
   "execution_count": 70,
   "metadata": {
    "collapsed": false
   },
   "outputs": [],
   "source": [
    "image_data['date/time'] = image_time"
   ]
  },
  {
   "cell_type": "code",
   "execution_count": 71,
   "metadata": {
    "collapsed": false
   },
   "outputs": [],
   "source": [
    "image_df = image_data.drop(['image_date'],axis = 1) #image_df is what we need to join with weather df"
   ]
  },
  {
   "cell_type": "code",
   "execution_count": null,
   "metadata": {
    "collapsed": false
   },
   "outputs": [],
   "source": []
  },
  {
   "cell_type": "code",
   "execution_count": 72,
   "metadata": {
    "collapsed": false
   },
   "outputs": [],
   "source": [
    "df_merged = pd.merge(data_useful, image_df, on='date/time') # the merged df for train"
   ]
  },
  {
   "cell_type": "code",
   "execution_count": 73,
   "metadata": {
    "collapsed": false
   },
   "outputs": [],
   "source": [
    "df_final = df_merged.drop(['Hmdx'],axis=1).dropna(axis=0, how = 'any')"
   ]
  },
  {
   "cell_type": "code",
   "execution_count": 74,
   "metadata": {
    "collapsed": false
   },
   "outputs": [],
   "source": [
    "x = df_final['Image_value']\n"
   ]
  },
  {
   "cell_type": "code",
   "execution_count": 75,
   "metadata": {
    "collapsed": false,
    "scrolled": true
   },
   "outputs": [],
   "source": [
    "needed = np.asarray(list([list(x) for x in np.asarray(x)])) #array for train (X)\n",
    "y = df_final['Weather'] #array for y"
   ]
  },
  {
   "cell_type": "code",
   "execution_count": 76,
   "metadata": {
    "collapsed": false,
    "scrolled": true
   },
   "outputs": [],
   "source": [
    "X_train, X_test, y_train, y_test = train_test_split(needed, y)\n",
    "#needed\n"
   ]
  },
  {
   "cell_type": "code",
   "execution_count": 77,
   "metadata": {
    "collapsed": false
   },
   "outputs": [
    {
     "name": "stdout",
     "output_type": "stream",
     "text": [
      "Bayesian Classifier model score: 0.383177570093\n"
     ]
    }
   ],
   "source": [
    "#Bayesian Classifier\n",
    "model = GaussianNB()\n",
    "model.fit(X_train, y_train)\n",
    "y_predicted = model.predict(X_test)\n",
    "print('Bayesian Classifier model score:',model.score(X_test, y_test))\n",
    "#print(model.score(X_test, y_test))"
   ]
  },
  {
   "cell_type": "code",
   "execution_count": 78,
   "metadata": {
    "collapsed": false
   },
   "outputs": [
    {
     "name": "stdout",
     "output_type": "stream",
     "text": [
      "Knn model score: 0.411214953271\n"
     ]
    }
   ],
   "source": [
    "#knn\n",
    "model = KNeighborsClassifier(n_neighbors=32)\n",
    "model.fit(X_train, y_train)\n",
    "print('Knn model score:',model.score(X_test, y_test))"
   ]
  },
  {
   "cell_type": "code",
   "execution_count": null,
   "metadata": {
    "collapsed": false
   },
   "outputs": [],
   "source": []
  },
  {
   "cell_type": "code",
   "execution_count": 79,
   "metadata": {
    "collapsed": false
   },
   "outputs": [
    {
     "name": "stdout",
     "output_type": "stream",
     "text": [
      "knn + feature scaling model score: 0.373831775701\n"
     ]
    }
   ],
   "source": [
    "#knn + feature scaling\n",
    "from sklearn.preprocessing import MinMaxScaler, StandardScaler\n",
    "model = make_pipeline(\n",
    "    StandardScaler(),\n",
    "    KNeighborsClassifier(n_neighbors=32)\n",
    ")\n",
    "model.fit(X_train, y_train)\n",
    "print('knn + feature scaling model score:',model.score(X_test, y_test))"
   ]
  },
  {
   "cell_type": "code",
   "execution_count": 80,
   "metadata": {
    "collapsed": false
   },
   "outputs": [
    {
     "name": "stdout",
     "output_type": "stream",
     "text": [
      "SVC + feature scaling model score: 0.383177570093\n"
     ]
    }
   ],
   "source": [
    "#SVM\n",
    "model = make_pipeline(\n",
    "    StandardScaler(),\n",
    "    SVC(kernel='linear', C=1e-2)\n",
    ")\n",
    "model.fit(X_train, y_train)\n",
    "print('SVC + feature scaling model score:',model.score(X_test, y_test))"
   ]
  },
  {
   "cell_type": "code",
   "execution_count": 81,
   "metadata": {
    "collapsed": false
   },
   "outputs": [
    {
     "name": "stdout",
     "output_type": "stream",
     "text": [
      "SVC + PCA model score: 0.439252336449\n"
     ]
    }
   ],
   "source": [
    "model = make_pipeline(\n",
    "    PCA(200),\n",
    "    SVC(kernel='linear', C=1e-2)\n",
    ")\n",
    "model.fit(X_train, y_train)\n",
    "print('SVC + PCA model score:',model.score(X_test, y_test))\n"
   ]
  },
  {
   "cell_type": "code",
   "execution_count": 82,
   "metadata": {
    "collapsed": false
   },
   "outputs": [
    {
     "name": "stdout",
     "output_type": "stream",
     "text": [
      "******************All these scores are not good. We are expecting more accuracy!**************\n"
     ]
    }
   ],
   "source": [
    "print('******************All these scores are not good. We are expecting more accuracy!**************')"
   ]
  },
  {
   "cell_type": "code",
   "execution_count": 83,
   "metadata": {
    "collapsed": false
   },
   "outputs": [
    {
     "name": "stdout",
     "output_type": "stream",
     "text": [
      "***************Section 2   More working on weather data set!******************\n",
      "***************Add some new features to Weather Condition.********************\n",
      "***************Temperature Feeling: Freezing,Cold,Normal,Warm,Hot*************\n",
      "***************Wind Intensity: Strong, Moderate, Weak*************************\n",
      "***************Visibility: Far, Medium, Limited*******************************\n"
     ]
    }
   ],
   "source": [
    "print('***************Section 2   More working on weather data set!******************')\n",
    "print('***************Add some new features to Weather Condition.********************')\n",
    "print('***************Temperature Feeling: Freezing,Cold,Normal,Warm,Hot*************')\n",
    "print('***************Wind Intensity: Strong, Moderate, Weak*************************')\n",
    "print('***************Visibility: Far, Medium, Limited*******************************')"
   ]
  },
  {
   "cell_type": "code",
   "execution_count": null,
   "metadata": {
    "collapsed": false
   },
   "outputs": [],
   "source": []
  },
  {
   "cell_type": "code",
   "execution_count": 84,
   "metadata": {
    "collapsed": false
   },
   "outputs": [],
   "source": [
    "df_todo = df_final"
   ]
  },
  {
   "cell_type": "code",
   "execution_count": 85,
   "metadata": {
    "collapsed": false
   },
   "outputs": [],
   "source": [
    "firstword = df_todo['Weather'].str.split(pat= ',').str[0]#.str.split(pat = ' ').str[0]\n",
    "#secondword = df_todo['Weather'].str.split(pat= ',').str[0].str.split(pat = ' ').str[1]\n",
    "thirdword = df_todo['Weather'].str.split(pat= ',').str[1]"
   ]
  },
  {
   "cell_type": "code",
   "execution_count": 86,
   "metadata": {
    "collapsed": false
   },
   "outputs": [],
   "source": [
    "df_todo['MainFeature'] = firstword\n",
    "#df_todo['secondword'] = secondword\n",
    "df_todo['SecondaryFeature'] = thirdword"
   ]
  },
  {
   "cell_type": "code",
   "execution_count": 87,
   "metadata": {
    "collapsed": false
   },
   "outputs": [],
   "source": [
    "# function to get wind scale\n",
    "#  Reference: https://stackoverflow.com/questions/21702342/creating-a-new-column-based-on-if-elif-else-condition\n",
    "def f1(row):\n",
    "    if (row['Wind Spd (km/h)'] <= 10):\n",
    "        val = 'Weakwind'\n",
    "    elif ( 10 < row['Wind Spd (km/h)'] <=20) :\n",
    "        val = 'ModerateWind'\n",
    "    else:\n",
    "        val = 'HeavyWind'\n",
    "    return val"
   ]
  },
  {
   "cell_type": "code",
   "execution_count": 88,
   "metadata": {
    "collapsed": false
   },
   "outputs": [],
   "source": [
    "df_todo['WindScale'] = df_todo.apply(f1, axis=1)"
   ]
  },
  {
   "cell_type": "code",
   "execution_count": 89,
   "metadata": {
    "collapsed": false
   },
   "outputs": [],
   "source": [
    "# function to get temperature feeling\n",
    "def f2(row):\n",
    "    if (row['Temp (°C)'] <= 0):\n",
    "        val = 'ColdFeeling'\n",
    "    elif ( 0 < row['Temp (°C)'] <=20) :\n",
    "        val = 'NormalFeeling'\n",
    "    else:\n",
    "        val = 'HotFeeling'\n",
    "    return val"
   ]
  },
  {
   "cell_type": "code",
   "execution_count": 90,
   "metadata": {
    "collapsed": false
   },
   "outputs": [],
   "source": [
    "df_todo['TemperatureFeeling'] = df_todo.apply(f2, axis=1)"
   ]
  },
  {
   "cell_type": "code",
   "execution_count": 91,
   "metadata": {
    "collapsed": false
   },
   "outputs": [],
   "source": [
    "# function to get visibility scale\n",
    "def f3(row):\n",
    "    if (0 <= row['Visibility (km)'] <= 20):\n",
    "        val = 'LimitedVisibility'\n",
    "    elif ( 20 < row['Visibility (km)'] <=40) :\n",
    "        val = 'MediumVisibility'\n",
    "    else:\n",
    "        val = 'FarVisibility'\n",
    "    return val"
   ]
  },
  {
   "cell_type": "code",
   "execution_count": 92,
   "metadata": {
    "collapsed": false
   },
   "outputs": [],
   "source": [
    "df_todo['VisibilityScale'] = df_todo.apply(f3, axis=1)"
   ]
  },
  {
   "cell_type": "code",
   "execution_count": 93,
   "metadata": {
    "collapsed": false
   },
   "outputs": [],
   "source": [
    "# function to find if the day had fog\n",
    "def f4(row):\n",
    "    if ((row['MainFeature'] =='Fog')|(row['SecondaryFeature'] =='Fog')|( row['MainFeature'] =='Freezing Fog')):\n",
    "        val = 'Fog'\n",
    "    else:\n",
    "        val = 'NoFog'\n",
    "    return val"
   ]
  },
  {
   "cell_type": "code",
   "execution_count": 94,
   "metadata": {
    "collapsed": false
   },
   "outputs": [],
   "source": [
    "df_todo['IfFog'] = df_todo.apply(f4, axis=1)"
   ]
  },
  {
   "cell_type": "code",
   "execution_count": 95,
   "metadata": {
    "collapsed": false
   },
   "outputs": [],
   "source": [
    "# function to get main weather info: Clear, Mainly Clear,Mostly Cloudy,Cloudy,Rain,\n",
    "# Moderate Rain,Rain Showers,Drizzle,Snow, Snow Showers, Moderate Snow\n",
    "def f5(row):\n",
    "    if ((row['MainFeature'] =='Clear') | (row['SecondaryFeature'] =='Clear')) :\n",
    "        val = 'Clear'\n",
    "    elif ((row['MainFeature'] =='Mainly Clear') | (row['SecondaryFeature'] =='Mainly Clear') ) :\n",
    "        val = 'Mainly Clear'\n",
    "    elif ((row['MainFeature'] =='Mostly Cloudy') | (row['SecondaryFeature'] =='Mostly Cloudy') ) :\n",
    "        val = 'Mostly Cloudy'\n",
    "    elif ((row['MainFeature'] =='Cloudy') | (row['SecondaryFeature'] =='Cloudy') ) :\n",
    "        val = 'Cloudy'\n",
    "    elif ((row['MainFeature'] =='Rain') | (row['SecondaryFeature'] =='Rain') ) :\n",
    "        val = 'Rain'\n",
    "    elif ((row['MainFeature'] =='Moderate Rain') | (row['SecondaryFeature'] =='Moderate Rain') ) :\n",
    "        val = 'Moderate Rain'\n",
    "    elif ((row['MainFeature'] =='Rain Showers') | (row['SecondaryFeature'] =='Rain Showers') ) :\n",
    "        val = 'Rain Showers'\n",
    "    elif ((row['MainFeature'] =='Drizzle') | (row['SecondaryFeature'] =='Drizzle') ) :\n",
    "        val = 'Drizzle'\n",
    "    elif ((row['MainFeature'] =='Snow') | (row['SecondaryFeature'] =='Snow') ) :\n",
    "        val = 'Snow'\n",
    "    elif ((row['MainFeature'] =='Snow Showers') | (row['SecondaryFeature'] =='Snow Showers') ) :\n",
    "        val = 'Snow Showers'\n",
    "    elif ((row['MainFeature'] =='Moderate Snow') | (row['SecondaryFeature'] =='Moderate Snow') ) :\n",
    "        val = 'Moderate Snow'\n",
    "    else:\n",
    "        val = 'Unknown Weather'\n",
    "    return val"
   ]
  },
  {
   "cell_type": "code",
   "execution_count": 96,
   "metadata": {
    "collapsed": false
   },
   "outputs": [],
   "source": [
    "df_todo['WeatherInfo'] = df_todo.apply(f5, axis=1)"
   ]
  },
  {
   "cell_type": "code",
   "execution_count": 97,
   "metadata": {
    "collapsed": false
   },
   "outputs": [],
   "source": [
    "WeatherSummary = df_todo['WeatherInfo'] +','+ df_todo['TemperatureFeeling'] +',' + df_todo['WindScale'] + ',' \\\n",
    "+ df_todo['VisibilityScale'] + ',' + df_todo['IfFog']"
   ]
  },
  {
   "cell_type": "code",
   "execution_count": 98,
   "metadata": {
    "collapsed": true
   },
   "outputs": [],
   "source": [
    "df_todo['WeatherSummary'] = WeatherSummary"
   ]
  },
  {
   "cell_type": "code",
   "execution_count": 99,
   "metadata": {
    "collapsed": false
   },
   "outputs": [],
   "source": [
    "df_better = df_todo #we have got the cleaned and better data"
   ]
  },
  {
   "cell_type": "code",
   "execution_count": 100,
   "metadata": {
    "collapsed": true
   },
   "outputs": [],
   "source": [
    "#Train and Test again\n",
    "y2 = df_better['WeatherSummary']"
   ]
  },
  {
   "cell_type": "code",
   "execution_count": 101,
   "metadata": {
    "collapsed": false
   },
   "outputs": [],
   "source": [
    "X2_train, X2_test, y2_train, y2_test = train_test_split(needed, y2)\n"
   ]
  },
  {
   "cell_type": "code",
   "execution_count": 102,
   "metadata": {
    "collapsed": false
   },
   "outputs": [
    {
     "name": "stdout",
     "output_type": "stream",
     "text": [
      "Bayesian Classifier model score: 0.0934579439252\n"
     ]
    }
   ],
   "source": [
    "#Bayesian Classifier\n",
    "model = GaussianNB()\n",
    "model.fit(X2_train, y2_train)\n",
    "y2_predicted = model.predict(X2_test)\n",
    "print('Bayesian Classifier model score:',model.score(X2_test, y2_test))\n",
    "#print(model.score(X_test, y_test))"
   ]
  },
  {
   "cell_type": "code",
   "execution_count": 103,
   "metadata": {
    "collapsed": false
   },
   "outputs": [
    {
     "name": "stdout",
     "output_type": "stream",
     "text": [
      "Knn model score: 0.0747663551402\n"
     ]
    }
   ],
   "source": [
    "#knn\n",
    "model = KNeighborsClassifier(n_neighbors=20)\n",
    "model.fit(X2_train, y2_train)\n",
    "print('Knn model score:',model.score(X2_test, y2_test))"
   ]
  },
  {
   "cell_type": "code",
   "execution_count": 104,
   "metadata": {
    "collapsed": false
   },
   "outputs": [
    {
     "name": "stdout",
     "output_type": "stream",
     "text": [
      "knn + feature scaling model score: 0.0747663551402\n"
     ]
    }
   ],
   "source": [
    "#knn + feature scaling\n",
    "model = make_pipeline(\n",
    "    StandardScaler(),\n",
    "    KNeighborsClassifier(n_neighbors=20)\n",
    ")\n",
    "model.fit(X2_train, y2_train)\n",
    "print('knn + feature scaling model score:',model.score(X2_test, y2_test))"
   ]
  },
  {
   "cell_type": "code",
   "execution_count": 105,
   "metadata": {
    "collapsed": false
   },
   "outputs": [
    {
     "name": "stdout",
     "output_type": "stream",
     "text": [
      "SVM + feature scaling model score: 0.130841121495\n"
     ]
    }
   ],
   "source": [
    "#SVM\n",
    "model = make_pipeline(\n",
    "    StandardScaler(),\n",
    "    SVC(kernel='linear', C=1e-2)\n",
    ")\n",
    "model.fit(X2_train, y2_train)\n",
    "print('SVM + feature scaling model score:',model.score(X2_test, y2_test))"
   ]
  },
  {
   "cell_type": "code",
   "execution_count": 106,
   "metadata": {
    "collapsed": false
   },
   "outputs": [
    {
     "name": "stdout",
     "output_type": "stream",
     "text": [
      "PCA + SVC model score: 0.0\n"
     ]
    }
   ],
   "source": [
    "#PCA\n",
    "model = make_pipeline(\n",
    "    PCA(200),\n",
    "    SVC(kernel='linear', C=1e-2)\n",
    ")\n",
    "model.fit(X_train, y_train)\n",
    "print('PCA + SVC model score:',model.score(X2_test, y2_test))"
   ]
  },
  {
   "cell_type": "code",
   "execution_count": 107,
   "metadata": {
    "collapsed": false
   },
   "outputs": [
    {
     "name": "stdout",
     "output_type": "stream",
     "text": [
      "***********************OH!!!Thins are getting worese!WHY??!?!?!?!?***********************************\n",
      "******The reason is that the WeatherSummary now is a long string contains all the weather details****\n",
      "******This makes all the model even more hard to get good predictions with a long feature************\n",
      "******Section 3!! Try to use less constraints for weahter condition********************************************\n"
     ]
    }
   ],
   "source": [
    "print('***********************OH!!!Thins are getting worese!WHY??!?!?!?!?***********************************')\n",
    "print('******The reason is that the WeatherSummary now is a long string contains all the weather details****')\n",
    "print('******This makes all the model even more hard to get good predictions with a long feature************')\n",
    "print('******Section 3!! Try to use less constraints for weahter condition********************************************')"
   ]
  },
  {
   "cell_type": "code",
   "execution_count": 108,
   "metadata": {
    "collapsed": false
   },
   "outputs": [
    {
     "name": "stdout",
     "output_type": "stream",
     "text": [
      "******What if we just want to know if oneday is Main weatherinfo: rain/snow/cloudy/etc.. and TemperatureFeeling***\n"
     ]
    }
   ],
   "source": [
    "print('******What if we just want to know if oneday is Main weatherinfo: rain/snow/cloudy/etc.. and TemperatureFeeling***' )"
   ]
  },
  {
   "cell_type": "code",
   "execution_count": 109,
   "metadata": {
    "collapsed": false
   },
   "outputs": [],
   "source": [
    "df_better['WeatherInfo+Temper_Feeling'] = df_better['WeatherInfo']+','+ df_better['TemperatureFeeling']"
   ]
  },
  {
   "cell_type": "code",
   "execution_count": 110,
   "metadata": {
    "collapsed": false
   },
   "outputs": [],
   "source": [
    "#Train and Test again\n",
    "y3 = df_better['WeatherInfo+Temper_Feeling']\n",
    "X3_train, X3_test, y3_train, y3_test = train_test_split(needed, y3)"
   ]
  },
  {
   "cell_type": "code",
   "execution_count": 111,
   "metadata": {
    "collapsed": false
   },
   "outputs": [
    {
     "name": "stdout",
     "output_type": "stream",
     "text": [
      "Bayesian Classifier model score: 0.289719626168\n"
     ]
    }
   ],
   "source": [
    "#Bayesian Classifier\n",
    "model = GaussianNB()\n",
    "model.fit(X3_train, y3_train)\n",
    "y3_predicted = model.predict(X3_test)\n",
    "print('Bayesian Classifier model score:',model.score(X3_test, y3_test))\n",
    "#print(model.score(X_test, y_test))"
   ]
  },
  {
   "cell_type": "code",
   "execution_count": 112,
   "metadata": {
    "collapsed": false
   },
   "outputs": [
    {
     "name": "stdout",
     "output_type": "stream",
     "text": [
      "Knn model score: 0.308411214953\n"
     ]
    }
   ],
   "source": [
    "#knn\n",
    "model = KNeighborsClassifier(n_neighbors=20)\n",
    "model.fit(X3_train, y3_train)\n",
    "print('Knn model score:',model.score(X3_test, y3_test))"
   ]
  },
  {
   "cell_type": "code",
   "execution_count": 113,
   "metadata": {
    "collapsed": false
   },
   "outputs": [
    {
     "name": "stdout",
     "output_type": "stream",
     "text": [
      "knn + feature scaling model score: 0.308411214953\n"
     ]
    }
   ],
   "source": [
    "#knn + feature scaling\n",
    "model = make_pipeline(\n",
    "    StandardScaler(),\n",
    "    KNeighborsClassifier(n_neighbors=20)\n",
    ")\n",
    "model.fit(X3_train, y3_train)\n",
    "print('knn + feature scaling model score:',model.score(X3_test, y3_test))"
   ]
  },
  {
   "cell_type": "code",
   "execution_count": 114,
   "metadata": {
    "collapsed": false
   },
   "outputs": [
    {
     "name": "stdout",
     "output_type": "stream",
     "text": [
      "SVM + feature scaling model score: 0.308411214953\n"
     ]
    }
   ],
   "source": [
    "#SVM\n",
    "model = make_pipeline(\n",
    "    StandardScaler(),\n",
    "    SVC(kernel='linear', C=1)\n",
    ")\n",
    "model.fit(X3_train, y3_train)\n",
    "print('SVM + feature scaling model score:',model.score(X3_test, y3_test))"
   ]
  },
  {
   "cell_type": "code",
   "execution_count": 115,
   "metadata": {
    "collapsed": false
   },
   "outputs": [
    {
     "name": "stdout",
     "output_type": "stream",
     "text": [
      "******It is better right?? Considering that weather is so unpridictable, this result is acceptable though***\n"
     ]
    }
   ],
   "source": [
    "print('******It is better right?? Considering that weather is so unpridictable, this result is acceptable though***')"
   ]
  },
  {
   "cell_type": "code",
   "execution_count": 116,
   "metadata": {
    "collapsed": false
   },
   "outputs": [
    {
     "name": "stdout",
     "output_type": "stream",
     "text": [
      "******Section 4! Let us try to use images to predict what time is it! Sounds interesting!************\n"
     ]
    }
   ],
   "source": [
    "print('******Section 4! Let us try to use images to predict what time is it! Sounds interesting!************')"
   ]
  },
  {
   "cell_type": "code",
   "execution_count": 117,
   "metadata": {
    "collapsed": false
   },
   "outputs": [],
   "source": [
    "y4 = df_better['Time']\n",
    "X4_train, X4_test, y4_train, y4_test = train_test_split(needed, y4)"
   ]
  },
  {
   "cell_type": "code",
   "execution_count": 118,
   "metadata": {
    "collapsed": false
   },
   "outputs": [
    {
     "name": "stdout",
     "output_type": "stream",
     "text": [
      "Bayesian Classifier model score: 0.598130841121\n"
     ]
    }
   ],
   "source": [
    "#Bayesian Classifier\n",
    "model = GaussianNB()\n",
    "model.fit(X4_train, y4_train)\n",
    "y4_predicted = model.predict(X4_test)\n",
    "print('Bayesian Classifier model score:',model.score(X4_test, y4_test))\n",
    "#print(model.score(X_test, y_test))"
   ]
  },
  {
   "cell_type": "code",
   "execution_count": 119,
   "metadata": {
    "collapsed": false
   },
   "outputs": [
    {
     "name": "stdout",
     "output_type": "stream",
     "text": [
      "Knn model score: 0.504672897196\n"
     ]
    }
   ],
   "source": [
    "#knn\n",
    "model = KNeighborsClassifier(n_neighbors=60)\n",
    "model.fit(X4_train, y4_train)\n",
    "print('Knn model score:',model.score(X4_test, y4_test))"
   ]
  },
  {
   "cell_type": "code",
   "execution_count": 120,
   "metadata": {
    "collapsed": false
   },
   "outputs": [
    {
     "name": "stdout",
     "output_type": "stream",
     "text": [
      "SVM + feature scaling model score: 0.663551401869\n"
     ]
    }
   ],
   "source": [
    "#SVM\n",
    "model = make_pipeline(\n",
    "    StandardScaler(),\n",
    "    SVC(kernel='linear', C=1e-2)\n",
    ")\n",
    "model.fit(X4_train, y4_train)\n",
    "print('SVM + feature scaling model score:',model.score(X4_test, y4_test))"
   ]
  },
  {
   "cell_type": "code",
   "execution_count": 121,
   "metadata": {
    "collapsed": false
   },
   "outputs": [
    {
     "name": "stdout",
     "output_type": "stream",
     "text": [
      "******Only getting some model scores is not funny at all!! We need some analysis for data sets*****\n",
      "******Section 5: Data sets analysis****************************************************************\n"
     ]
    }
   ],
   "source": [
    "print('******Only getting some model scores is not funny at all!! We need some analysis for data sets*****')\n",
    "print('******Section 5: Data sets analysis****************************************************************')"
   ]
  },
  {
   "cell_type": "code",
   "execution_count": 122,
   "metadata": {
    "collapsed": false
   },
   "outputs": [],
   "source": [
    "from datetime import datetime\n",
    "from dateutil.parser import parse\n",
    "import pandas as pd\n",
    "from scipy import stats"
   ]
  },
  {
   "cell_type": "code",
   "execution_count": 123,
   "metadata": {
    "collapsed": false
   },
   "outputs": [],
   "source": [
    "df_better['Created_at'] = pd.to_datetime(df_better['Date/Time'],format=\"%Y-%m-%d %H:%M:%S.%f\")"
   ]
  },
  {
   "cell_type": "code",
   "execution_count": null,
   "metadata": {
    "collapsed": false
   },
   "outputs": [],
   "source": []
  },
  {
   "cell_type": "code",
   "execution_count": 159,
   "metadata": {
    "collapsed": false
   },
   "outputs": [],
   "source": [
    "def to_timestamp(data):\n",
    "    return data.timestamp()\n"
   ]
  },
  {
   "cell_type": "code",
   "execution_count": 160,
   "metadata": {
    "collapsed": false
   },
   "outputs": [],
   "source": [
    "df_better['timestamp'] = df_better['Created_at'].apply(to_timestamp)"
   ]
  },
  {
   "cell_type": "code",
   "execution_count": 161,
   "metadata": {
    "collapsed": false
   },
   "outputs": [],
   "source": [
    "fit1 = slope, intercept, r_value, p_value, std_err = stats.linregress(df_better.timestamp, df_better['Temp (°C)'].astype('float'))\n",
    "\n",
    "fit2 = slope, intercept, r_value, p_value, std_err = stats.linregress(df_better.timestamp, df_better['Wind Spd (km/h)'].astype('float'))"
   ]
  },
  {
   "cell_type": "code",
   "execution_count": 186,
   "metadata": {
    "collapsed": false
   },
   "outputs": [
    {
     "data": {
      "image/png": "[encoded data removed]",
      "text/plain": [
       "<matplotlib.figure.Figure at 0x7f2b7e056c88>"
      ]
     },
     "metadata": {},
     "output_type": "display_data"
    }
   ],
   "source": [
    "import matplotlib.pyplot as plt\n",
    "import pandas as pd\n",
    "import matplotlib.dates as mdates\n",
    "\n",
    "#times = pd.date_range('2015-10-06', periods=500, freq='10min')\n",
    "\n",
    "fig, ax = plt.subplots(1)\n",
    "fig.autofmt_xdate()\n",
    "plt.plot(df_better['Created_at'],df_better['Temp (°C)'],'b.',alpha = 0.5,label='Temp')\n",
    "plt.plot(df_better['Created_at'],df_better['Wind Spd (km/h)'],'r.',alpha = 0.5,label='WindSpd')\n",
    "plt.plot(df_better['Created_at'],df_better['timestamp']*fit1.slope + fit1.intercept,'g-',alpha = 0.5,label='Temp_linear_fit_line')\n",
    "plt.plot(df_better['Created_at'],df_better['timestamp']*fit2.slope + fit2.intercept,'y-',alpha = 0.5,label='WindSpd_linear_fit_line')\n",
    "xfmt = mdates.DateFormatter('%Y-%m-%d %H:%M')\n",
    "plt.legend(loc='upper left')\n",
    "ax.xaxis.set_major_formatter(xfmt)\n",
    "plt.savefig('Temp_WindSpd_Liner_Fit.jpeg')\n",
    "plt.show()\n",
    "\n",
    "#regerence https://stackoverflow.com/questions/32972371/how-to-show-date-and-time-on-x-axis-in-matplotlib"
   ]
  },
  {
   "cell_type": "code",
   "execution_count": 301,
   "metadata": {
    "collapsed": false
   },
   "outputs": [
    {
     "data": {
      "image/png": "[encoded data removed]",
      "text/plain": [
       "<matplotlib.figure.Figure at 0x7f2b7df2e828>"
      ]
     },
     "metadata": {},
     "output_type": "display_data"
    }
   ],
   "source": [
    "fig, ax = plt.subplots(1)\n",
    "fig.autofmt_xdate()\n",
    "plt.plot(df_better['Created_at'],df_better['Temp (°C)'],'b.',alpha = 0.5,label='Temp')\n",
    "plt.plot(df_better['Created_at'],df_better['Dew Point Temp (°C)'],'r.',alpha = 0.5,label='Dew_Point_Temp')\n",
    "plt.plot(df_better['Created_at'],df_better['timestamp']*fit1.slope + fit1.intercept,'g-',alpha = 0.5,label='Temp_linear_fit_line')\n",
    "plt.plot(df_better['Created_at'],df_better['timestamp']*fit2.slope + fit2.intercept,'y-',alpha = 0.5,label='DPTemp_linear_fit_line')\n",
    "xfmt = mdates.DateFormatter('%Y-%m-%d %H:%M')\n",
    "plt.legend(loc='upper left')\n",
    "ax.xaxis.set_major_formatter(xfmt)\n",
    "plt.savefig('Temp_DPTemp_Liner_Fit.jpeg')\n",
    "plt.show()"
   ]
  },
  {
   "cell_type": "code",
   "execution_count": 334,
   "metadata": {
    "collapsed": false
   },
   "outputs": [
    {
     "name": "stdout",
     "output_type": "stream",
     "text": [
      "**********Linear Fit does not work here. We need higher-order polynomial regression******\n",
      "**********But time is running out.....***************************************************\n"
     ]
    }
   ],
   "source": [
    "print('**********Linear Fit does not work here. We need higher-order polynomial regression******')\n",
    "print('**********But time is running out.....***************************************************')"
   ]
  },
  {
   "cell_type": "code",
   "execution_count": null,
   "metadata": {
    "collapsed": false
   },
   "outputs": [],
   "source": []
  },
  {
   "cell_type": "code",
   "execution_count": null,
   "metadata": {
    "collapsed": false
   },
   "outputs": [],
   "source": []
  },
  {
   "cell_type": "code",
   "execution_count": null,
   "metadata": {
    "collapsed": false
   },
   "outputs": [],
   "source": []
  },
  {
   "cell_type": "code",
   "execution_count": null,
   "metadata": {
    "collapsed": false
   },
   "outputs": [],
   "source": []
  },
  {
   "cell_type": "code",
   "execution_count": null,
   "metadata": {
    "collapsed": false
   },
   "outputs": [],
   "source": []
  },
  {
   "cell_type": "code",
   "execution_count": null,
   "metadata": {
    "collapsed": false
   },
   "outputs": [],
   "source": []
  },
  {
   "cell_type": "code",
   "execution_count": null,
   "metadata": {
    "collapsed": true
   },
   "outputs": [],
   "source": []
  },
  {
   "cell_type": "code",
   "execution_count": null,
   "metadata": {
    "collapsed": true
   },
   "outputs": [],
   "source": []
  },
  {
   "cell_type": "code",
   "execution_count": null,
   "metadata": {
    "collapsed": true
   },
   "outputs": [],
   "source": []
  }
 ],
 "metadata": {
  "kernelspec": {
   "display_name": "Python 3",
   "language": "python",
   "name": "python3"
  },
  "language_info": {
   "codemirror_mode": {
    "name": "ipython",
    "version": 3
   },
   "file_extension": ".py",
   "mimetype": "text/x-python",
   "name": "python",
   "nbconvert_exporter": "python",
   "pygments_lexer": "ipython3",
   "version": "3.6.0"
  }
 },
 "nbformat": 4,
 "nbformat_minor": 2
}
